{
 "cells": [
  {
   "cell_type": "code",
   "execution_count": 1,
   "metadata": {},
   "outputs": [
    {
     "data": {
      "text/html": [
       "<div>\n",
       "<style scoped>\n",
       "    .dataframe tbody tr th:only-of-type {\n",
       "        vertical-align: middle;\n",
       "    }\n",
       "\n",
       "    .dataframe tbody tr th {\n",
       "        vertical-align: top;\n",
       "    }\n",
       "\n",
       "    .dataframe thead th {\n",
       "        text-align: right;\n",
       "    }\n",
       "</style>\n",
       "<table border=\"1\" class=\"dataframe\">\n",
       "  <thead>\n",
       "    <tr style=\"text-align: right;\">\n",
       "      <th></th>\n",
       "      <th>station #</th>\n",
       "      <th>date</th>\n",
       "      <th>pwl</th>\n",
       "      <th>3D</th>\n",
       "      <th>Spike flag</th>\n",
       "      <th>pwl_3D</th>\n",
       "    </tr>\n",
       "  </thead>\n",
       "  <tbody>\n",
       "    <tr>\n",
       "      <th>0</th>\n",
       "      <td>018</td>\n",
       "      <td>1990/08/21 05:06</td>\n",
       "      <td>1.277</td>\n",
       "      <td>NaN</td>\n",
       "      <td>0</td>\n",
       "      <td>1.277</td>\n",
       "    </tr>\n",
       "    <tr>\n",
       "      <th>1</th>\n",
       "      <td>018</td>\n",
       "      <td>1990/08/21 05:12</td>\n",
       "      <td>1.283</td>\n",
       "      <td>NaN</td>\n",
       "      <td>0</td>\n",
       "      <td>1.283</td>\n",
       "    </tr>\n",
       "    <tr>\n",
       "      <th>2</th>\n",
       "      <td>018</td>\n",
       "      <td>1990/08/21 05:18</td>\n",
       "      <td>1.286</td>\n",
       "      <td>NaN</td>\n",
       "      <td>0</td>\n",
       "      <td>1.286</td>\n",
       "    </tr>\n",
       "    <tr>\n",
       "      <th>3</th>\n",
       "      <td>018</td>\n",
       "      <td>1990/08/21 05:24</td>\n",
       "      <td>1.286</td>\n",
       "      <td>0.000</td>\n",
       "      <td>0</td>\n",
       "      <td>1.286</td>\n",
       "    </tr>\n",
       "    <tr>\n",
       "      <th>4</th>\n",
       "      <td>018</td>\n",
       "      <td>1990/08/21 05:30</td>\n",
       "      <td>1.295</td>\n",
       "      <td>-0.012</td>\n",
       "      <td>0</td>\n",
       "      <td>1.295</td>\n",
       "    </tr>\n",
       "    <tr>\n",
       "      <th>...</th>\n",
       "      <td>...</td>\n",
       "      <td>...</td>\n",
       "      <td>...</td>\n",
       "      <td>...</td>\n",
       "      <td>...</td>\n",
       "      <td>...</td>\n",
       "    </tr>\n",
       "    <tr>\n",
       "      <th>2837760</th>\n",
       "      <td>018</td>\n",
       "      <td>2024/11/05 14:54</td>\n",
       "      <td>1.610</td>\n",
       "      <td>-0.008</td>\n",
       "      <td>0</td>\n",
       "      <td>1.610</td>\n",
       "    </tr>\n",
       "    <tr>\n",
       "      <th>2837761</th>\n",
       "      <td>018</td>\n",
       "      <td>2024/11/05 15:00</td>\n",
       "      <td>1.600</td>\n",
       "      <td>0.015</td>\n",
       "      <td>0</td>\n",
       "      <td>1.600</td>\n",
       "    </tr>\n",
       "    <tr>\n",
       "      <th>2837762</th>\n",
       "      <td>018</td>\n",
       "      <td>2024/11/05 15:06</td>\n",
       "      <td>1.593</td>\n",
       "      <td>-0.012</td>\n",
       "      <td>0</td>\n",
       "      <td>1.593</td>\n",
       "    </tr>\n",
       "    <tr>\n",
       "      <th>2837763</th>\n",
       "      <td>018</td>\n",
       "      <td>2024/11/05 15:12</td>\n",
       "      <td>1.589</td>\n",
       "      <td>-0.000</td>\n",
       "      <td>0</td>\n",
       "      <td>1.589</td>\n",
       "    </tr>\n",
       "    <tr>\n",
       "      <th>2837764</th>\n",
       "      <td>018</td>\n",
       "      <td>2024/11/05 15:18</td>\n",
       "      <td>1.580</td>\n",
       "      <td>0.008</td>\n",
       "      <td>0</td>\n",
       "      <td>1.580</td>\n",
       "    </tr>\n",
       "  </tbody>\n",
       "</table>\n",
       "<p>2837765 rows × 6 columns</p>\n",
       "</div>"
      ],
      "text/plain": [
       "        station #              date    pwl     3D  Spike flag  pwl_3D\n",
       "0             018  1990/08/21 05:06  1.277    NaN           0   1.277\n",
       "1             018  1990/08/21 05:12  1.283    NaN           0   1.283\n",
       "2             018  1990/08/21 05:18  1.286    NaN           0   1.286\n",
       "3             018  1990/08/21 05:24  1.286  0.000           0   1.286\n",
       "4             018  1990/08/21 05:30  1.295 -0.012           0   1.295\n",
       "...           ...               ...    ...    ...         ...     ...\n",
       "2837760       018  2024/11/05 14:54  1.610 -0.008           0   1.610\n",
       "2837761       018  2024/11/05 15:00  1.600  0.015           0   1.600\n",
       "2837762       018  2024/11/05 15:06  1.593 -0.012           0   1.593\n",
       "2837763       018  2024/11/05 15:12  1.589 -0.000           0   1.589\n",
       "2837764       018  2024/11/05 15:18  1.580  0.008           0   1.580\n",
       "\n",
       "[2837765 rows x 6 columns]"
      ]
     },
     "execution_count": 1,
     "metadata": {},
     "output_type": "execute_result"
    }
   ],
   "source": [
    "import pandas as pd\n",
    "import numpy as np\n",
    "import matplotlib.pyplot as plt \n",
    "from matplotlib.ticker import MaxNLocator\n",
    "import matplotlib.dates as mdates\n",
    "import os\n",
    "\n",
    "## Read in data from loops\n",
    "\n",
    "directory_path = r'/Users/rprocious/Waterlevels_CBI/CBI-2/Corrected_Data_Official/nesscanResult_removedBadNesdisRecords/PortIsabel'\n",
    "dataframes = []\n",
    "\n",
    "\n",
    "for filename in sorted(os.listdir(directory_path)):\n",
    "    if filename.endswith('.csv'):\n",
    "\n",
    "        file_path = os.path.join(directory_path, filename)\n",
    "        \n",
    "        df = pd.read_csv(\n",
    "        file_path,\n",
    "        parse_dates=[0],\n",
    "        na_values=[-999, -99, 99, 'NA', 'RM'],\n",
    "        engine='python'   \n",
    "        )\n",
    "        df.columns = ['station #','date', 'pwl',]\n",
    "        dataframes.append(df)\n",
    "\n",
    "PI = pd.concat(dataframes, ignore_index=True)\n",
    "\n",
    "def third_diff(dataset):\n",
    "    pwl = dataset['pwl']\n",
    "    # Use pandas shift to vectorize calculation\n",
    "    third_difference = pwl.shift(3) - 3*pwl.shift(2) + 3*pwl.shift(1) - pwl\n",
    "    return third_difference.dropna().reset_index(drop=True)\n",
    "\n",
    "values = third_diff(PI)\n",
    "values = round(values,4)\n",
    "values = values.to_numpy()\n",
    "nan_array = np.full(3, np.nan)\n",
    "new_arr = np.concatenate((nan_array, values))\n",
    "PI.insert(3,'3D',new_arr)\n",
    "PI['Spike flag'] = 0\n",
    "mean = PI['3D'].mean()\n",
    "std = PI['3D'].std()\n",
    "\n",
    "outliers = (PI['3D'] < mean - 5*std) | (PI['3D'] > mean + 5*std)\n",
    "\n",
    "PI.loc[outliers, 'Spike flag'] = 1\n",
    "PI['pwl_3D'] = PI.loc[PI['Spike flag']==0,'pwl']\n",
    "PI"
   ]
  },
  {
   "cell_type": "code",
   "execution_count": 2,
   "metadata": {},
   "outputs": [
    {
     "data": {
      "text/plain": [
       "(-1.0, 6.0)"
      ]
     },
     "execution_count": 2,
     "metadata": {},
     "output_type": "execute_result"
    },
    {
     "data": {
      "image/png": "[encoded data removed]",
      "text/plain": [
       "<Figure size 640x480 with 1 Axes>"
      ]
     },
     "metadata": {},
     "output_type": "display_data"
    }
   ],
   "source": [
    "plt.hist(PI['pwl'],1000)\n",
    "plt.yscale('log')\n",
    "plt.xlim(-1,6)"
   ]
  },
  {
   "cell_type": "code",
   "execution_count": 3,
   "metadata": {},
   "outputs": [
    {
     "data": {
      "text/plain": [
       "(-1.0, 6.0)"
      ]
     },
     "execution_count": 3,
     "metadata": {},
     "output_type": "execute_result"
    },
    {
     "data": {
      "image/png": "[encoded data removed]",
      "text/plain": [
       "<Figure size 640x480 with 1 Axes>"
      ]
     },
     "metadata": {},
     "output_type": "display_data"
    }
   ],
   "source": [
    "plt.hist(PI['pwl_3D'],1000)\n",
    "plt.yscale('log')\n",
    "plt.xlim(-1,6)"
   ]
  },
  {
   "cell_type": "code",
   "execution_count": 4,
   "metadata": {},
   "outputs": [
    {
     "data": {
      "text/plain": [
       "0.041939539938379795"
      ]
     },
     "execution_count": 4,
     "metadata": {},
     "output_type": "execute_result"
    }
   ],
   "source": [
    "std"
   ]
  },
  {
   "cell_type": "code",
   "execution_count": 5,
   "metadata": {},
   "outputs": [
    {
     "data": {
      "text/plain": [
       "7.04780739190478e-10"
      ]
     },
     "execution_count": 5,
     "metadata": {},
     "output_type": "execute_result"
    }
   ],
   "source": [
    "mean"
   ]
  }
 ],
 "metadata": {
  "kernelspec": {
   "display_name": "base",
   "language": "python",
   "name": "python3"
  },
  "language_info": {
   "codemirror_mode": {
    "name": "ipython",
    "version": 3
   },
   "file_extension": ".py",
   "mimetype": "text/x-python",
   "name": "python",
   "nbconvert_exporter": "python",
   "pygments_lexer": "ipython3",
   "version": "3.12.2"
  }
 },
 "nbformat": 4,
 "nbformat_minor": 2
}
