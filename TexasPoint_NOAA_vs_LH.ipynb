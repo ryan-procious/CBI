{
 "cells": [
  {
   "cell_type": "code",
   "execution_count": 239,
   "metadata": {},
   "outputs": [],
   "source": [
    "import pandas as pd # Use the work with the data 2frames\n",
    "import numpy as np  # Mainly use to assing nan values as np.nan\n",
    "import matplotlib.pyplot as plt # Visualitzation\n",
    "from matplotlib.ticker import MaxNLocator # Visualitzation\n",
    "import statistics  # Uses to compute statistics\n",
    "import os\n",
    "import scipy.interpolate\n",
    "from collections import Counter\n",
    "import matplotlib.dates as mdates\n"
   ]
  },
  {
   "cell_type": "code",
   "execution_count": 240,
   "metadata": {},
   "outputs": [
    {
     "name": "stderr",
     "output_type": "stream",
     "text": [
      "/var/folders/y3/cr8y1g617l16hvdtqnqzmgz80000gn/T/ipykernel_59014/369914491.py:3: DtypeWarning: Columns (2) have mixed types. Specify dtype option on import or set low_memory=False.\n",
      "  tp_0112_LH = pd.read_csv(r'/Users/rprocious/Downloads/data 2/lighthouse/Texas Point/TexasPoint_2001-2012_pwl_harmwl_bwl.csv')\n",
      "/var/folders/y3/cr8y1g617l16hvdtqnqzmgz80000gn/T/ipykernel_59014/369914491.py:5: DtypeWarning: Columns (2) have mixed types. Specify dtype option on import or set low_memory=False.\n",
      "  tp_1323_LH = pd.read_csv(r'/Users/rprocious/Downloads/data 2/lighthouse/Texas Point/TexasPoint_2013-2023_pwl_harmwl_bwl.csv')\n"
     ]
    },
    {
     "data": {
      "text/html": [
       "<div>\n",
       "<style scoped>\n",
       "    .dataframe tbody tr th:only-of-type {\n",
       "        vertical-align: middle;\n",
       "    }\n",
       "\n",
       "    .dataframe tbody tr th {\n",
       "        vertical-align: top;\n",
       "    }\n",
       "\n",
       "    .dataframe thead th {\n",
       "        text-align: right;\n",
       "    }\n",
       "</style>\n",
       "<table border=\"1\" class=\"dataframe\">\n",
       "  <thead>\n",
       "    <tr style=\"text-align: right;\">\n",
       "      <th></th>\n",
       "      <th>Dates</th>\n",
       "      <th>Lighthouse WL</th>\n",
       "      <th>NOAA WL</th>\n",
       "    </tr>\n",
       "  </thead>\n",
       "  <tbody>\n",
       "    <tr>\n",
       "      <th>0</th>\n",
       "      <td>2002-05-26 15:00:00</td>\n",
       "      <td>NaN</td>\n",
       "      <td>NaN</td>\n",
       "    </tr>\n",
       "    <tr>\n",
       "      <th>1</th>\n",
       "      <td>2002-05-26 15:06:00</td>\n",
       "      <td>NaN</td>\n",
       "      <td>NaN</td>\n",
       "    </tr>\n",
       "    <tr>\n",
       "      <th>2</th>\n",
       "      <td>2002-05-26 15:12:00</td>\n",
       "      <td>NaN</td>\n",
       "      <td>NaN</td>\n",
       "    </tr>\n",
       "    <tr>\n",
       "      <th>3</th>\n",
       "      <td>2002-05-26 15:18:00</td>\n",
       "      <td>NaN</td>\n",
       "      <td>NaN</td>\n",
       "    </tr>\n",
       "    <tr>\n",
       "      <th>4</th>\n",
       "      <td>2002-05-26 15:24:00</td>\n",
       "      <td>NaN</td>\n",
       "      <td>NaN</td>\n",
       "    </tr>\n",
       "    <tr>\n",
       "      <th>...</th>\n",
       "      <td>...</td>\n",
       "      <td>...</td>\n",
       "      <td>...</td>\n",
       "    </tr>\n",
       "    <tr>\n",
       "      <th>280633</th>\n",
       "      <td>2015-03-15 08:30:00</td>\n",
       "      <td>NaN</td>\n",
       "      <td>1.287</td>\n",
       "    </tr>\n",
       "    <tr>\n",
       "      <th>280634</th>\n",
       "      <td>2015-03-15 08:36:00</td>\n",
       "      <td>NaN</td>\n",
       "      <td>1.283</td>\n",
       "    </tr>\n",
       "    <tr>\n",
       "      <th>280635</th>\n",
       "      <td>2015-03-15 08:42:00</td>\n",
       "      <td>NaN</td>\n",
       "      <td>1.265</td>\n",
       "    </tr>\n",
       "    <tr>\n",
       "      <th>280636</th>\n",
       "      <td>2015-03-15 08:48:00</td>\n",
       "      <td>NaN</td>\n",
       "      <td>1.257</td>\n",
       "    </tr>\n",
       "    <tr>\n",
       "      <th>280637</th>\n",
       "      <td>2015-03-15 08:54:00</td>\n",
       "      <td>NaN</td>\n",
       "      <td>1.254</td>\n",
       "    </tr>\n",
       "  </tbody>\n",
       "</table>\n",
       "<p>280638 rows × 3 columns</p>\n",
       "</div>"
      ],
      "text/plain": [
       "                     Dates  Lighthouse WL  NOAA WL\n",
       "0      2002-05-26 15:00:00            NaN      NaN\n",
       "1      2002-05-26 15:06:00            NaN      NaN\n",
       "2      2002-05-26 15:12:00            NaN      NaN\n",
       "3      2002-05-26 15:18:00            NaN      NaN\n",
       "4      2002-05-26 15:24:00            NaN      NaN\n",
       "...                    ...            ...      ...\n",
       "280633 2015-03-15 08:30:00            NaN    1.287\n",
       "280634 2015-03-15 08:36:00            NaN    1.283\n",
       "280635 2015-03-15 08:42:00            NaN    1.265\n",
       "280636 2015-03-15 08:48:00            NaN    1.257\n",
       "280637 2015-03-15 08:54:00            NaN    1.254\n",
       "\n",
       "[280638 rows x 3 columns]"
      ]
     },
     "execution_count": 240,
     "metadata": {},
     "output_type": "execute_result"
    }
   ],
   "source": [
    "tp_9300_LH = pd.read_csv(r'/Users/rprocious/Downloads/data 2/lighthouse/Texas Point/TexasPoint_1993-2000_pwl_harmwl_bwl.csv')\n",
    "tp_9300_LH.drop(labels=range(len(tp_9300_LH)-6,len(tp_9300_LH)), axis=0, inplace=True)\n",
    "tp_0112_LH = pd.read_csv(r'/Users/rprocious/Downloads/data 2/lighthouse/Texas Point/TexasPoint_2001-2012_pwl_harmwl_bwl.csv')\n",
    "tp_0112_LH.drop(labels=range(len(tp_0112_LH)-6,len(tp_0112_LH)), axis=0, inplace=True)\n",
    "tp_1323_LH = pd.read_csv(r'/Users/rprocious/Downloads/data 2/lighthouse/Texas Point/TexasPoint_2013-2023_pwl_harmwl_bwl.csv')\n",
    "tp_1323_LH.drop(labels=range(len(tp_1323_LH)-6,len(tp_1323_LH)), axis=0, inplace=True)\n",
    "directory_path = '/Users/rprocious/Downloads/data 2/NOAA/texasPoint/'\n",
    "dataframes = []\n",
    "\n",
    "# Loop through the files in the directory\n",
    "for filename in sorted(os.listdir(directory_path)):\n",
    "    if filename.endswith('level.csv'):\n",
    "\n",
    "        file_path = os.path.join(directory_path, filename)\n",
    "        \n",
    "        \n",
    "        df = pd.read_csv(file_path)\n",
    "        \n",
    "        dataframes.append(df)\n",
    "\n",
    "tp_NOAA = pd.concat(dataframes, ignore_index=True)\n",
    "tp_NOAA.drop(labels=range(0,3), axis = 0,inplace=True)\n",
    "tp_NOAA.reset_index(drop = True, inplace=True)\n",
    "frames = [tp_9300_LH,tp_0112_LH,tp_1323_LH]\n",
    "tp_LH = pd.concat(frames, ignore_index=True)\n",
    "tp_LH.drop(labels=range(0,262800),axis=0, inplace=True)\n",
    "tp_LH.reset_index(drop=True, inplace=True)\n",
    "\n",
    "comparison_df = pd.DataFrame()\n",
    "comparison_df['Dates'] = tp_LH['#date+time']\n",
    "comparison_df['Lighthouse WL'] = tp_LH['126-pwl']\n",
    "comparison_df['NOAA WL'] = tp_NOAA[' Water Level']\n",
    "\n",
    "comparison_df['Dates'] = pd.to_datetime(comparison_df['Dates'])\n",
    "comparison_df['Lighthouse WL'].replace([-999, -99, 99, 'NA', 'RM'], np.nan, inplace=True)\n",
    "comparison_df['NOAA WL'].replace([-999, -99, 99, 'NA', 'RM'], np.nan, inplace=True)\n",
    "comparison_df['Lighthouse WL'] = pd.to_numeric(comparison_df['Lighthouse WL'],errors= 'coerce')\n",
    "comparison_df['NOAA WL'] = pd.to_numeric(comparison_df['NOAA WL'],errors='coerce')\n",
    "comparison_df\n"
   ]
  },
  {
   "cell_type": "code",
   "execution_count": 241,
   "metadata": {},
   "outputs": [],
   "source": [
    "#function to find the index of a date range\n",
    "def date_index_locater(start_date,end_date):\n",
    "    indices = []\n",
    "# Filter rows by date range\n",
    "    date_range_filter = (comparison_df['Dates'] >= start_date) & (comparison_df['Dates'] <= end_date)\n",
    "\n",
    "# Get the indices of the rows within the date range\n",
    "    indices = (comparison_df[date_range_filter].index.tolist())\n",
    "\n",
    "    return(indices)\n"
   ]
  },
  {
   "cell_type": "code",
   "execution_count": 242,
   "metadata": {},
   "outputs": [],
   "source": [
    "comparison_df['Lighthouse WL'] = comparison_df['Lighthouse WL'] - 3.08"
   ]
  },
  {
   "cell_type": "code",
   "execution_count": 243,
   "metadata": {},
   "outputs": [
    {
     "data": {
      "text/plain": [
       "Text(0.5, 1.0, 'Texas Point')"
      ]
     },
     "execution_count": 243,
     "metadata": {},
     "output_type": "execute_result"
    },
    {
     "data": {
      "image/png": "[encoded data removed]",
      "text/plain": [
       "<Figure size 640x480 with 1 Axes>"
      ]
     },
     "metadata": {},
     "output_type": "display_data"
    }
   ],
   "source": [
    "plt.plot(comparison_df['Dates'],comparison_df['Lighthouse WL'],label = 'Lighthouse')\n",
    "\n",
    "plt.plot(comparison_df['Dates'],comparison_df['NOAA WL'],label = 'NOAA')\n",
    "\n",
    "plt.gca().xaxis.set_major_formatter(mdates.DateFormatter('%Y-%m-%d %H:%M'))\n",
    "\n",
    "plt.gca().xaxis.set_major_locator(mdates.DayLocator(interval=400))\n",
    "\n",
    "plt.gcf().autofmt_xdate()\n",
    "\n",
    "plt.ylim(0,2)\n",
    "\n",
    "start_date = pd.to_datetime('2013-01-23 17:00')\n",
    "\n",
    "end_date = pd.to_datetime('2013-01-25 20:00')\n",
    "\n",
    "plt.xlim(start_date, end_date)\n",
    "plt.legend(frameon = False)\n",
    "plt.title('Texas Point')"
   ]
  },
  {
   "cell_type": "code",
   "execution_count": 244,
   "metadata": {},
   "outputs": [
    {
     "data": {
      "text/plain": [
       "[87828, 87829, 87830, 87831, 87832, 87833, 87834, 87835, 87836, 87837, 87838]"
      ]
     },
     "execution_count": 244,
     "metadata": {},
     "output_type": "execute_result"
    }
   ],
   "source": [
    "date_index_locater('2013-01-01 00:00','2013-01-01 01:00')"
   ]
  },
  {
   "cell_type": "code",
   "execution_count": 245,
   "metadata": {},
   "outputs": [
    {
     "data": {
      "text/html": [
       "<div>\n",
       "<style scoped>\n",
       "    .dataframe tbody tr th:only-of-type {\n",
       "        vertical-align: middle;\n",
       "    }\n",
       "\n",
       "    .dataframe tbody tr th {\n",
       "        vertical-align: top;\n",
       "    }\n",
       "\n",
       "    .dataframe thead th {\n",
       "        text-align: right;\n",
       "    }\n",
       "</style>\n",
       "<table border=\"1\" class=\"dataframe\">\n",
       "  <thead>\n",
       "    <tr style=\"text-align: right;\">\n",
       "      <th></th>\n",
       "      <th>Dates</th>\n",
       "      <th>Lighthouse WL</th>\n",
       "      <th>NOAA WL</th>\n",
       "      <th>Shifted NOAA WL</th>\n",
       "    </tr>\n",
       "  </thead>\n",
       "  <tbody>\n",
       "  </tbody>\n",
       "</table>\n",
       "</div>"
      ],
      "text/plain": [
       "Empty DataFrame\n",
       "Columns: [Dates, Lighthouse WL, NOAA WL, Shifted NOAA WL]\n",
       "Index: []"
      ]
     },
     "execution_count": 245,
     "metadata": {},
     "output_type": "execute_result"
    }
   ],
   "source": [
    "revised_LH = pd.DataFrame()\n",
    "revised_LH['Adjusted NOAA WL'] = comparison_df['NOAA WL']\n",
    "revised_LH.reset_index(drop = True, inplace=True)\n",
    "comparison_df['Shifted NOAA WL'] = revised_LH['Adjusted NOAA WL']\n",
    "comparison_df[1584937:1584947]"
   ]
  },
  {
   "cell_type": "code",
   "execution_count": 252,
   "metadata": {},
   "outputs": [
    {
     "data": {
      "text/html": [
       "<div>\n",
       "<style scoped>\n",
       "    .dataframe tbody tr th:only-of-type {\n",
       "        vertical-align: middle;\n",
       "    }\n",
       "\n",
       "    .dataframe tbody tr th {\n",
       "        vertical-align: top;\n",
       "    }\n",
       "\n",
       "    .dataframe thead th {\n",
       "        text-align: right;\n",
       "    }\n",
       "</style>\n",
       "<table border=\"1\" class=\"dataframe\">\n",
       "  <thead>\n",
       "    <tr style=\"text-align: right;\">\n",
       "      <th></th>\n",
       "      <th>Dates</th>\n",
       "      <th>Lighthouse WL</th>\n",
       "      <th>NOAA WL</th>\n",
       "      <th>Shifted NOAA WL</th>\n",
       "      <th>Differences</th>\n",
       "    </tr>\n",
       "  </thead>\n",
       "  <tbody>\n",
       "    <tr>\n",
       "      <th>87825</th>\n",
       "      <td>2003-05-27 13:30:00</td>\n",
       "      <td>NaN</td>\n",
       "      <td>1.430</td>\n",
       "      <td>1.430</td>\n",
       "      <td>NaN</td>\n",
       "    </tr>\n",
       "    <tr>\n",
       "      <th>87826</th>\n",
       "      <td>2003-05-27 13:36:00</td>\n",
       "      <td>NaN</td>\n",
       "      <td>1.456</td>\n",
       "      <td>1.456</td>\n",
       "      <td>NaN</td>\n",
       "    </tr>\n",
       "    <tr>\n",
       "      <th>87827</th>\n",
       "      <td>2003-05-27 13:42:00</td>\n",
       "      <td>NaN</td>\n",
       "      <td>1.481</td>\n",
       "      <td>1.481</td>\n",
       "      <td>NaN</td>\n",
       "    </tr>\n",
       "    <tr>\n",
       "      <th>87828</th>\n",
       "      <td>2013-01-01 00:00:00</td>\n",
       "      <td>1.540</td>\n",
       "      <td>1.487</td>\n",
       "      <td>1.487</td>\n",
       "      <td>0.053</td>\n",
       "    </tr>\n",
       "    <tr>\n",
       "      <th>87829</th>\n",
       "      <td>2013-01-01 00:06:00</td>\n",
       "      <td>1.542</td>\n",
       "      <td>1.500</td>\n",
       "      <td>1.500</td>\n",
       "      <td>0.042</td>\n",
       "    </tr>\n",
       "    <tr>\n",
       "      <th>...</th>\n",
       "      <td>...</td>\n",
       "      <td>...</td>\n",
       "      <td>...</td>\n",
       "      <td>...</td>\n",
       "      <td>...</td>\n",
       "    </tr>\n",
       "    <tr>\n",
       "      <th>88835</th>\n",
       "      <td>2013-01-05 04:42:00</td>\n",
       "      <td>1.347</td>\n",
       "      <td>1.430</td>\n",
       "      <td>1.430</td>\n",
       "      <td>-0.083</td>\n",
       "    </tr>\n",
       "    <tr>\n",
       "      <th>88836</th>\n",
       "      <td>2013-01-05 04:48:00</td>\n",
       "      <td>1.343</td>\n",
       "      <td>1.442</td>\n",
       "      <td>1.442</td>\n",
       "      <td>-0.099</td>\n",
       "    </tr>\n",
       "    <tr>\n",
       "      <th>88837</th>\n",
       "      <td>2013-01-05 04:54:00</td>\n",
       "      <td>1.353</td>\n",
       "      <td>1.443</td>\n",
       "      <td>1.443</td>\n",
       "      <td>-0.090</td>\n",
       "    </tr>\n",
       "    <tr>\n",
       "      <th>88838</th>\n",
       "      <td>2013-01-05 05:00:00</td>\n",
       "      <td>1.340</td>\n",
       "      <td>1.451</td>\n",
       "      <td>1.451</td>\n",
       "      <td>-0.111</td>\n",
       "    </tr>\n",
       "    <tr>\n",
       "      <th>88839</th>\n",
       "      <td>2013-01-05 05:06:00</td>\n",
       "      <td>1.344</td>\n",
       "      <td>1.462</td>\n",
       "      <td>1.462</td>\n",
       "      <td>-0.118</td>\n",
       "    </tr>\n",
       "  </tbody>\n",
       "</table>\n",
       "<p>1015 rows × 5 columns</p>\n",
       "</div>"
      ],
      "text/plain": [
       "                    Dates  Lighthouse WL  NOAA WL  Shifted NOAA WL  Differences\n",
       "87825 2003-05-27 13:30:00            NaN    1.430            1.430          NaN\n",
       "87826 2003-05-27 13:36:00            NaN    1.456            1.456          NaN\n",
       "87827 2003-05-27 13:42:00            NaN    1.481            1.481          NaN\n",
       "87828 2013-01-01 00:00:00          1.540    1.487            1.487        0.053\n",
       "87829 2013-01-01 00:06:00          1.542    1.500            1.500        0.042\n",
       "...                   ...            ...      ...              ...          ...\n",
       "88835 2013-01-05 04:42:00          1.347    1.430            1.430       -0.083\n",
       "88836 2013-01-05 04:48:00          1.343    1.442            1.442       -0.099\n",
       "88837 2013-01-05 04:54:00          1.353    1.443            1.443       -0.090\n",
       "88838 2013-01-05 05:00:00          1.340    1.451            1.451       -0.111\n",
       "88839 2013-01-05 05:06:00          1.344    1.462            1.462       -0.118\n",
       "\n",
       "[1015 rows x 5 columns]"
      ]
     },
     "execution_count": 252,
     "metadata": {},
     "output_type": "execute_result"
    }
   ],
   "source": [
    "comparison_df['Differences'] = comparison_df['Lighthouse WL'] - comparison_df['NOAA WL']\n",
    "comparison_df[87825:88840]"
   ]
  },
  {
   "cell_type": "code",
   "execution_count": 251,
   "metadata": {},
   "outputs": [
    {
     "data": {
      "text/plain": [
       "Text(0.5, 1.0, 'Texas Point')"
      ]
     },
     "execution_count": 251,
     "metadata": {},
     "output_type": "execute_result"
    },
    {
     "data": {
      "image/png": "[encoded data removed]",
      "text/plain": [
       "<Figure size 640x480 with 1 Axes>"
      ]
     },
     "metadata": {},
     "output_type": "display_data"
    }
   ],
   "source": [
    "plt.plot(comparison_df['Dates'],comparison_df['Shifted NOAA WL'],label = 'Lighthouse')\n",
    "\n",
    "plt.plot(comparison_df['Dates'],comparison_df['NOAA WL'],label = 'NOAA')\n",
    "\n",
    "plt.gca().xaxis.set_major_formatter(mdates.DateFormatter('%Y-%m-%d %H:%M'))\n",
    "\n",
    "plt.gca().xaxis.set_major_locator(mdates.DayLocator(interval=400))\n",
    "\n",
    "plt.gcf().autofmt_xdate()\n",
    "\n",
    "plt.ylim(1.25,1.75)\n",
    "\n",
    "start_date = pd.to_datetime('2013-04-25 00:00')\n",
    "\n",
    "end_date = pd.to_datetime('2013-04-25 04:00')\n",
    "\n",
    "plt.xlim(start_date, end_date)\n",
    "plt.legend(frameon = False)\n",
    "plt.title('Texas Point')"
   ]
  }
 ],
 "metadata": {
  "kernelspec": {
   "display_name": "Python 3.11.7 ('base')",
   "language": "python",
   "name": "python3"
  },
  "language_info": {
   "codemirror_mode": {
    "name": "ipython",
    "version": 3
   },
   "file_extension": ".py",
   "mimetype": "text/x-python",
   "name": "python",
   "nbconvert_exporter": "python",
   "pygments_lexer": "ipython3",
   "version": "3.11.7"
  },
  "orig_nbformat": 4,
  "vscode": {
   "interpreter": {
    "hash": "40d3a090f54c6569ab1632332b64b2c03c39dcf918b08424e98f38b5ae0af88f"
   }
  }
 },
 "nbformat": 4,
 "nbformat_minor": 2
}
