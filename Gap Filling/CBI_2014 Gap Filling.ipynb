{
 "cells": [
  {
   "cell_type": "code",
   "execution_count": 59,
   "metadata": {},
   "outputs": [
    {
     "name": "stderr",
     "output_type": "stream",
     "text": [
      "/var/folders/y3/cr8y1g617l16hvdtqnqzmgz80000gn/T/ipykernel_26610/4244281715.py:12: FutureWarning: A value is trying to be set on a copy of a DataFrame or Series through chained assignment using an inplace method.\n",
      "The behavior will change in pandas 3.0. This inplace method will never work because the intermediate object on which we are setting values always behaves as a copy.\n",
      "\n",
      "For example, when doing 'df[col].method(value, inplace=True)', try using 'df.method({col: value}, inplace=True)' or df[col] = df[col].method(value) instead, to perform the operation inplace on the original object.\n",
      "\n",
      "\n",
      "  P21_2014['022-pwl'].replace([-999, -99, 99, 'NA', 'RM'], np.nan, inplace=True)\n",
      "/var/folders/y3/cr8y1g617l16hvdtqnqzmgz80000gn/T/ipykernel_26610/4244281715.py:13: FutureWarning: A value is trying to be set on a copy of a DataFrame or Series through chained assignment using an inplace method.\n",
      "The behavior will change in pandas 3.0. This inplace method will never work because the intermediate object on which we are setting values always behaves as a copy.\n",
      "\n",
      "For example, when doing 'df[col].method(value, inplace=True)', try using 'df.method({col: value}, inplace=True)' or df[col] = df[col].method(value) instead, to perform the operation inplace on the original object.\n",
      "\n",
      "\n",
      "  P21_2014['022-bwl'].replace([-999, -99, 99, 'NA', 'RM'], np.nan, inplace=True)\n"
     ]
    }
   ],
   "source": [
    "import pandas as pd\n",
    "import numpy.polynomial\n",
    "from scipy.stats import linregress\n",
    "import numpy as np\n",
    "import os\n",
    "import matplotlib.pyplot as plt\n",
    "\n",
    "\n",
    "P21_2014 = pd.read_csv(r'/Users/rprocious/Waterlevels_CBI/CBI-2/Gap Filling/P21_2016.csv')\n",
    "\n",
    "P21_2014['date'] = pd.to_datetime(P21_2014['#date+time'])\n",
    "P21_2014['022-pwl'].replace([-999, -99, 99, 'NA', 'RM'], np.nan, inplace=True)\n",
    "P21_2014['022-bwl'].replace([-999, -99, 99, 'NA', 'RM'], np.nan, inplace=True)\n",
    "P21_2014['022-bwl'] = pd.to_numeric(P21_2014['022-bwl'],errors= 'coerce')\n",
    "P21_2014['022-pwl'] = pd.to_numeric(P21_2014['022-pwl'],errors= 'coerce')\n"
   ]
  },
  {
   "cell_type": "code",
   "execution_count": 60,
   "metadata": {},
   "outputs": [
    {
     "name": "stderr",
     "output_type": "stream",
     "text": [
      "/var/folders/y3/cr8y1g617l16hvdtqnqzmgz80000gn/T/ipykernel_26610/1080642497.py:41: FutureWarning: The behavior of 'isin' with dtype=datetime64[ns] and castable values (e.g. strings) is deprecated. In a future version, these will not be considered matching by isin. Explicitly cast to the appropriate dtype before calling isin instead.\n",
      "  matching_dates = Wl_data[Wl_data['date'].isin(linear_gaps['date'])]\n",
      "/var/folders/y3/cr8y1g617l16hvdtqnqzmgz80000gn/T/ipykernel_26610/1080642497.py:54: FutureWarning: The behavior of 'isin' with dtype=datetime64[ns] and castable values (e.g. strings) is deprecated. In a future version, these will not be considered matching by isin. Explicitly cast to the appropriate dtype before calling isin instead.\n",
      "  matching_dates = Wl_data[Wl_data['date'].isin(three_hr_gaps['date'])]\n"
     ]
    },
    {
     "ename": "UnboundLocalError",
     "evalue": "cannot access local variable 'pwl_30_days' where it is not associated with a value",
     "output_type": "error",
     "traceback": [
      "\u001b[0;31m---------------------------------------------------------------------------\u001b[0m",
      "\u001b[0;31mUnboundLocalError\u001b[0m                         Traceback (most recent call last)",
      "Cell \u001b[0;32mIn[60], line 103\u001b[0m\n\u001b[1;32m     99\u001b[0m linear_gaps,three_hr_gaps,three_day_gaps \u001b[38;5;241m=\u001b[39m eligible_gap_length(Wl_gaps)\n\u001b[1;32m    101\u001b[0m linear_fill(P21_2014,linear_gaps)\n\u001b[0;32m--> 103\u001b[0m poly_gap_fill(P21_2014,three_hr_gaps)\n",
      "Cell \u001b[0;32mIn[60], line 68\u001b[0m, in \u001b[0;36mpoly_gap_fill\u001b[0;34m(Wl_data, three_hr_gaps)\u001b[0m\n\u001b[1;32m     64\u001b[0m     pwl_30_days \u001b[38;5;241m=\u001b[39m Wl_data[\u001b[38;5;124m'\u001b[39m\u001b[38;5;124m022-pwl\u001b[39m\u001b[38;5;124m'\u001b[39m][(index_locations[i]\u001b[38;5;241m-\u001b[39m \u001b[38;5;241m2160\u001b[39m \u001b[38;5;241m-\u001b[39m gap_length[i]):index_locations[i]\u001b[38;5;241m+\u001b[39m\u001b[38;5;241m2160\u001b[39m\u001b[38;5;241m+\u001b[39mgap_length[i]]\u001b[38;5;241m.\u001b[39mtolist()\n\u001b[1;32m     66\u001b[0m     bwl_30_days \u001b[38;5;241m=\u001b[39m Wl_data[\u001b[38;5;124m'\u001b[39m\u001b[38;5;124m022-bwl\u001b[39m\u001b[38;5;124m'\u001b[39m][(index_locations[i]\u001b[38;5;241m-\u001b[39m \u001b[38;5;241m2160\u001b[39m):index_locations[i]\u001b[38;5;241m+\u001b[39m\u001b[38;5;241m2160\u001b[39m]\u001b[38;5;241m.\u001b[39mtolist()\n\u001b[0;32m---> 68\u001b[0m slope, intercept, r, p, se \u001b[38;5;241m=\u001b[39m linregress(pwl_30_days,bwl_30_days)\n\u001b[1;32m     70\u001b[0m poly_df \u001b[38;5;241m=\u001b[39m pd\u001b[38;5;241m.\u001b[39mDataFrame()\n\u001b[1;32m     72\u001b[0m poly_df[\u001b[38;5;124m'\u001b[39m\u001b[38;5;124mbwl\u001b[39m\u001b[38;5;124m'\u001b[39m] \u001b[38;5;241m=\u001b[39m bwl_30_days\n",
      "\u001b[0;31mUnboundLocalError\u001b[0m: cannot access local variable 'pwl_30_days' where it is not associated with a value"
     ]
    }
   ],
   "source": [
    "def locate_gaps(WL_data):\n",
    "    lengthMissVal = []\n",
    "    dates = []\n",
    "    count = 0\n",
    "    for i in range(len(WL_data)):\n",
    "        if pd.isna(WL_data['022-pwl'][i]):\n",
    "            if count == 0:  # Start of a new NaN gap\n",
    "                dates.append(WL_data['#date+time'][i])  # Record the start date of the gap\n",
    "            count += 1  # Increment the gap length\n",
    "\n",
    "        else:\n",
    "            if count > 0:  # End of a NaN gap\n",
    "                lengthMissVal.append(count)\n",
    "                count = 0  # Reset count after recording the gap length\n",
    "\n",
    "    # Finalize the DataFrame\n",
    "    WL_data_gaps = pd.DataFrame()\n",
    "    WL_data_gaps['date'] = dates\n",
    "    WL_data_gaps['gapLength'] = lengthMissVal\n",
    "    WL_data_gaps['gapTime(min)'] = WL_data_gaps['gapLength'] * 6\n",
    "    return WL_data_gaps\n",
    "\n",
    "\n",
    "def eligible_gap_length(WL_gaps): #Function to sort the lengh of the gaps into three categories\n",
    "    WL_gaps_filter_6min = WL_gaps['gapLength'] == 1\n",
    "    WL_gaps_filter_3hr = WL_gaps['gapLength'] <= 24\n",
    "    WL_gaps_filter_3days = WL_gaps['gapLength'] <= 432\n",
    "\n",
    "    #filters the data into individual dataframes\n",
    "    linear_gaps = WL_gaps[WL_gaps_filter_6min]\n",
    "    three_hr_gaps = WL_gaps[WL_gaps_filter_3hr]\n",
    "    three_day_gaps = WL_gaps[WL_gaps_filter_3days]\n",
    "\n",
    "    return linear_gaps,three_hr_gaps,three_day_gaps\n",
    "\n",
    "\n",
    "\n",
    "\n",
    "def linear_fill(Wl_data,linear_gaps): #function to fill in gaps with length of 1 using linear approach\n",
    "\n",
    "    matching_dates = Wl_data[Wl_data['date'].isin(linear_gaps['date'])]\n",
    "\n",
    "    index_locations = matching_dates.index.tolist()\n",
    "\n",
    "    for i in range(len(index_locations)):\n",
    "        new_value = (Wl_data.loc[(index_locations[i])-1,'022-pwl']+ Wl_data.loc[index_locations[i]+1,'022-pwl']) / 2\n",
    "        Wl_data.loc[index_locations[i],'022-pwl'] = new_value\n",
    "    \n",
    "    return Wl_data\n",
    "\n",
    "\n",
    "def poly_gap_fill(Wl_data, three_hr_gaps):\n",
    "    \n",
    "    matching_dates = Wl_data[Wl_data['date'].isin(three_hr_gaps['date'])]\n",
    "\n",
    "    index_locations = matching_dates.index.tolist()\n",
    "\n",
    "    gap_length = three_hr_gaps['gapLength'].tolist()\n",
    "\n",
    "    for i in range(len(index_locations)):\n",
    "\n",
    "        if index_locations[i]- 2160 - gap_length[i] > 0 and index_locations[i]+2160+gap_length[i]:\n",
    "\n",
    "            pwl_30_days = Wl_data['022-pwl'][(index_locations[i]- 2160 - gap_length[i]):index_locations[i]+2160+gap_length[i]].tolist()\n",
    "\n",
    "            bwl_30_days = Wl_data['022-bwl'][(index_locations[i]- 2160):index_locations[i]+2160].tolist()\n",
    "    \n",
    "        slope, intercept, r, p, se = linregress(pwl_30_days,bwl_30_days)\n",
    "\n",
    "        poly_df = pd.DataFrame()\n",
    "\n",
    "        poly_df['bwl'] = bwl_30_days\n",
    "        poly_df['pwl'] = pwl_30_days\n",
    "        poly_df['mwl'] = intercept + slope*poly_df['bwl']\n",
    "\n",
    "        poly_df = poly_df[abs(poly_df['mwl'] - poly_df['pwl']) <= 0.1]\n",
    "        \n",
    "        if poly_df['bwl'].isna().sum() + poly_df['pwl'].isna().sum() < len(poly_df)*0.1:\n",
    "\n",
    "            poly = np.polynomial.polynomial.Polynomial.fit(pwl_30_days,bwl_30_days,4)\n",
    "\n",
    "            pred_values = poly(poly_df['bwl'].values)\n",
    "\n",
    "        poly_df['mwl'] = pred_values\n",
    "\n",
    "        '''avg_5_before = np.mean(Wl_data[index_locations[i]- 6: index_locations[i]-1]['bwl']) - np.mean(Wl_data[index_locations[i]- 6: index_locations[i]-1]['pwl'])\n",
    "\n",
    "        avg_5_after = np.mean(Wl_data[index_locations[i]+ 1+ gap_length[i]: index_locations[i]+6+ gap_length[i]]['bwl']) - np.mean(Wl_data[index_locations[i]+ 1+ gap_length[i]: index_locations[i]+6+ gap_length[i]]['pwl'])\n",
    "\n",
    "        poly_df['mwl_adj'] = poly_df['mwl'] + (avg_5_before + )'''\n",
    "\n",
    "        return poly_df\n",
    "\n",
    "\n",
    "\n",
    "\n",
    "Wl_gaps = locate_gaps(P21_2014)\n",
    "\n",
    "linear_gaps,three_hr_gaps,three_day_gaps = eligible_gap_length(Wl_gaps)\n",
    "\n",
    "linear_fill(P21_2014,linear_gaps)\n",
    "\n",
    "poly_gap_fill(P21_2014,three_hr_gaps)\n",
    "\n"
   ]
  }
 ],
 "metadata": {
  "kernelspec": {
   "display_name": "Python 3.12.7 ('base')",
   "language": "python",
   "name": "python3"
  },
  "language_info": {
   "codemirror_mode": {
    "name": "ipython",
    "version": 3
   },
   "file_extension": ".py",
   "mimetype": "text/x-python",
   "name": "python",
   "nbconvert_exporter": "python",
   "pygments_lexer": "ipython3",
   "version": "3.12.7"
  },
  "vscode": {
   "interpreter": {
    "hash": "40d3a090f54c6569ab1632332b64b2c03c39dcf918b08424e98f38b5ae0af88f"
   }
  }
 },
 "nbformat": 4,
 "nbformat_minor": 2
}
