{
 "cells": [
  {
   "cell_type": "markdown",
   "metadata": {},
   "source": [
    "Categories of problems\n",
    "1. time lag\n",
    "    +6 min\n",
    "    -6 min\n",
    "    larger than 6 min\n",
    "    smaller than -6 min\n",
    "2. Vertical offset after time correction of 10 or more points\n",
    "    +1 cm\n",
    "    -1 cm\n",
    "    +5 mm\n",
    "    -5 mm\n",
    "3. repeated points\n",
    "    doccument how many?\n",
    "4. NOAA gap fill\n",
    "    any gap that NOAA has filled 30+ min"
   ]
  },
  {
   "cell_type": "code",
   "execution_count": 98,
   "metadata": {},
   "outputs": [],
   "source": [
    "import pandas as pd # Use the work with the dataframes\n",
    "import numpy as np  # Mainly use to assing nan values as np.nan\n",
    "import matplotlib.pyplot as plt # Visualitzation\n",
    "from matplotlib.ticker import MaxNLocator # Visualitzation\n",
    "import statistics  # Uses to compute statistics\n",
    "import os\n",
    "import scipy.interpolate\n",
    "from collections import Counter\n",
    "import matplotlib.dates as mdates\n"
   ]
  },
  {
   "cell_type": "code",
   "execution_count": 99,
   "metadata": {},
   "outputs": [
    {
     "name": "stderr",
     "output_type": "stream",
     "text": [
      "/var/folders/y3/cr8y1g617l16hvdtqnqzmgz80000gn/T/ipykernel_36895/2121313406.py:1: DtypeWarning: Columns (1,2) have mixed types. Specify dtype option on import or set low_memory=False.\n",
      "  p21_9300_LH = pd.read_csv(r'/Users/rprocious/Downloads/data/lighthouse/Pier 21/Pier21_1993-2000_pwl_harmwl_bwl.csv')\n",
      "/var/folders/y3/cr8y1g617l16hvdtqnqzmgz80000gn/T/ipykernel_36895/2121313406.py:3: DtypeWarning: Columns (1,2) have mixed types. Specify dtype option on import or set low_memory=False.\n",
      "  p21_0112_LH = pd.read_csv(r'/Users/rprocious/Downloads/data/lighthouse/Pier 21/Pier21_2001-2012_pwl_harmwl_bwl.csv')\n",
      "/var/folders/y3/cr8y1g617l16hvdtqnqzmgz80000gn/T/ipykernel_36895/2121313406.py:5: DtypeWarning: Columns (1,2) have mixed types. Specify dtype option on import or set low_memory=False.\n",
      "  p21_1323_LH = pd.read_csv(r'/Users/rprocious/Downloads/data/lighthouse/Pier 21/Pier21_2013-2023_pwl_harmwl_bwl.csv')\n"
     ]
    }
   ],
   "source": [
    "p21_9300_LH = pd.read_csv(r'/Users/rprocious/Downloads/data/lighthouse/Pier 21/Pier21_1993-2000_pwl_harmwl_bwl.csv')\n",
    "p21_9300_LH.drop(labels=range(701280,701286),axis = 0, inplace = True)\n",
    "p21_0112_LH = pd.read_csv(r'/Users/rprocious/Downloads/data/lighthouse/Pier 21/Pier21_2001-2012_pwl_harmwl_bwl.csv')\n",
    "p21_0112_LH.drop(labels=range(1051920,1051926), axis = 0, inplace=True)\n",
    "p21_1323_LH = pd.read_csv(r'/Users/rprocious/Downloads/data/lighthouse/Pier 21/Pier21_2013-2023_pwl_harmwl_bwl.csv')\n",
    "p21_1323_LH.drop(labels=range(len(p21_1323_LH)-6,len(p21_1323_LH)), axis=0, inplace=True)\n"
   ]
  },
  {
   "cell_type": "code",
   "execution_count": 100,
   "metadata": {},
   "outputs": [],
   "source": [
    "directory_path = '/Users/rprocious/Downloads/data/NOAA/pier21/'\n",
    "\n",
    "dataframes = []\n",
    "\n",
    "# Loop through the files in the directory\n",
    "for filename in sorted(os.listdir(directory_path)):\n",
    "    if filename.endswith('level.csv'):\n",
    "\n",
    "        file_path = os.path.join(directory_path, filename)\n",
    "        \n",
    "        \n",
    "        df = pd.read_csv(file_path)\n",
    "        \n",
    "        dataframes.append(df)\n",
    "\n",
    "p21_NOAA = pd.concat(dataframes, ignore_index=True)"
   ]
  },
  {
   "cell_type": "code",
   "execution_count": 101,
   "metadata": {},
   "outputs": [
    {
     "data": {
      "text/html": [
       "<div>\n",
       "<style scoped>\n",
       "    .dataframe tbody tr th:only-of-type {\n",
       "        vertical-align: middle;\n",
       "    }\n",
       "\n",
       "    .dataframe tbody tr th {\n",
       "        vertical-align: top;\n",
       "    }\n",
       "\n",
       "    .dataframe thead th {\n",
       "        text-align: right;\n",
       "    }\n",
       "</style>\n",
       "<table border=\"1\" class=\"dataframe\">\n",
       "  <thead>\n",
       "    <tr style=\"text-align: right;\">\n",
       "      <th></th>\n",
       "      <th>#date+time</th>\n",
       "      <th>022-pwl</th>\n",
       "      <th>022-bwl</th>\n",
       "      <th>022-harmwl</th>\n",
       "    </tr>\n",
       "  </thead>\n",
       "  <tbody>\n",
       "    <tr>\n",
       "      <th>0</th>\n",
       "      <td>01-01-1993 0000</td>\n",
       "      <td>1.491</td>\n",
       "      <td>1.733</td>\n",
       "      <td>1.453</td>\n",
       "    </tr>\n",
       "    <tr>\n",
       "      <th>1</th>\n",
       "      <td>01-01-1993 0006</td>\n",
       "      <td>1.491</td>\n",
       "      <td>NaN</td>\n",
       "      <td>1.456</td>\n",
       "    </tr>\n",
       "    <tr>\n",
       "      <th>2</th>\n",
       "      <td>01-01-1993 0012</td>\n",
       "      <td>1.496</td>\n",
       "      <td>NaN</td>\n",
       "      <td>1.458</td>\n",
       "    </tr>\n",
       "    <tr>\n",
       "      <th>3</th>\n",
       "      <td>01-01-1993 0018</td>\n",
       "      <td>1.503</td>\n",
       "      <td>NaN</td>\n",
       "      <td>1.461</td>\n",
       "    </tr>\n",
       "    <tr>\n",
       "      <th>4</th>\n",
       "      <td>01-01-1993 0024</td>\n",
       "      <td>1.512</td>\n",
       "      <td>NaN</td>\n",
       "      <td>1.464</td>\n",
       "    </tr>\n",
       "  </tbody>\n",
       "</table>\n",
       "</div>"
      ],
      "text/plain": [
       "        #date+time 022-pwl 022-bwl  022-harmwl\n",
       "0  01-01-1993 0000   1.491   1.733       1.453\n",
       "1  01-01-1993 0006   1.491     NaN       1.456\n",
       "2  01-01-1993 0012   1.496     NaN       1.458\n",
       "3  01-01-1993 0018   1.503     NaN       1.461\n",
       "4  01-01-1993 0024   1.512     NaN       1.464"
      ]
     },
     "execution_count": 101,
     "metadata": {},
     "output_type": "execute_result"
    }
   ],
   "source": [
    "frames = [p21_9300_LH,p21_0112_LH,p21_1323_LH]\n",
    "p21_LH = pd.concat(frames, ignore_index=True)\n",
    "p21_LH.head()"
   ]
  },
  {
   "cell_type": "code",
   "execution_count": 102,
   "metadata": {},
   "outputs": [],
   "source": [
    "p21_NOAA.drop(labels=range(0,3), axis = 0,inplace=True)\n",
    "p21_NOAA.reset_index(drop = True, inplace=True)"
   ]
  },
  {
   "cell_type": "code",
   "execution_count": 103,
   "metadata": {},
   "outputs": [
    {
     "data": {
      "text/html": [
       "<div>\n",
       "<style scoped>\n",
       "    .dataframe tbody tr th:only-of-type {\n",
       "        vertical-align: middle;\n",
       "    }\n",
       "\n",
       "    .dataframe tbody tr th {\n",
       "        vertical-align: top;\n",
       "    }\n",
       "\n",
       "    .dataframe thead th {\n",
       "        text-align: right;\n",
       "    }\n",
       "</style>\n",
       "<table border=\"1\" class=\"dataframe\">\n",
       "  <thead>\n",
       "    <tr style=\"text-align: right;\">\n",
       "      <th></th>\n",
       "      <th>#date+time</th>\n",
       "      <th>022-pwl</th>\n",
       "      <th>022-bwl</th>\n",
       "      <th>022-harmwl</th>\n",
       "    </tr>\n",
       "  </thead>\n",
       "  <tbody>\n",
       "    <tr>\n",
       "      <th>0</th>\n",
       "      <td>01-01-1996 0000</td>\n",
       "      <td>1.634</td>\n",
       "      <td>1.911</td>\n",
       "      <td>1.550</td>\n",
       "    </tr>\n",
       "    <tr>\n",
       "      <th>1</th>\n",
       "      <td>01-01-1996 0006</td>\n",
       "      <td>1.648</td>\n",
       "      <td>NaN</td>\n",
       "      <td>1.549</td>\n",
       "    </tr>\n",
       "    <tr>\n",
       "      <th>2</th>\n",
       "      <td>01-01-1996 0012</td>\n",
       "      <td>1.657</td>\n",
       "      <td>NaN</td>\n",
       "      <td>1.547</td>\n",
       "    </tr>\n",
       "    <tr>\n",
       "      <th>3</th>\n",
       "      <td>01-01-1996 0018</td>\n",
       "      <td>1.664</td>\n",
       "      <td>NaN</td>\n",
       "      <td>1.546</td>\n",
       "    </tr>\n",
       "    <tr>\n",
       "      <th>4</th>\n",
       "      <td>01-01-1996 0024</td>\n",
       "      <td>1.654</td>\n",
       "      <td>NaN</td>\n",
       "      <td>1.545</td>\n",
       "    </tr>\n",
       "  </tbody>\n",
       "</table>\n",
       "</div>"
      ],
      "text/plain": [
       "        #date+time 022-pwl 022-bwl  022-harmwl\n",
       "0  01-01-1996 0000   1.634   1.911       1.550\n",
       "1  01-01-1996 0006   1.648     NaN       1.549\n",
       "2  01-01-1996 0012   1.657     NaN       1.547\n",
       "3  01-01-1996 0018   1.664     NaN       1.546\n",
       "4  01-01-1996 0024   1.654     NaN       1.545"
      ]
     },
     "execution_count": 103,
     "metadata": {},
     "output_type": "execute_result"
    }
   ],
   "source": [
    "p21_LH.drop(labels=range(0,262800),axis=0, inplace=True)\n",
    "p21_LH.reset_index(drop=True, inplace=True)\n",
    "p21_LH.head()"
   ]
  },
  {
   "cell_type": "code",
   "execution_count": 104,
   "metadata": {},
   "outputs": [
    {
     "data": {
      "text/html": [
       "<div>\n",
       "<style scoped>\n",
       "    .dataframe tbody tr th:only-of-type {\n",
       "        vertical-align: middle;\n",
       "    }\n",
       "\n",
       "    .dataframe tbody tr th {\n",
       "        vertical-align: top;\n",
       "    }\n",
       "\n",
       "    .dataframe thead th {\n",
       "        text-align: right;\n",
       "    }\n",
       "</style>\n",
       "<table border=\"1\" class=\"dataframe\">\n",
       "  <thead>\n",
       "    <tr style=\"text-align: right;\">\n",
       "      <th></th>\n",
       "      <th>Dates</th>\n",
       "      <th>Lighthouse WL</th>\n",
       "      <th>NOAA WL</th>\n",
       "    </tr>\n",
       "  </thead>\n",
       "  <tbody>\n",
       "    <tr>\n",
       "      <th>0</th>\n",
       "      <td>01-01-1996 0000</td>\n",
       "      <td>1.634</td>\n",
       "      <td>1.634</td>\n",
       "    </tr>\n",
       "    <tr>\n",
       "      <th>1</th>\n",
       "      <td>01-01-1996 0006</td>\n",
       "      <td>1.648</td>\n",
       "      <td>1.648</td>\n",
       "    </tr>\n",
       "    <tr>\n",
       "      <th>2</th>\n",
       "      <td>01-01-1996 0012</td>\n",
       "      <td>1.657</td>\n",
       "      <td>1.657</td>\n",
       "    </tr>\n",
       "    <tr>\n",
       "      <th>3</th>\n",
       "      <td>01-01-1996 0018</td>\n",
       "      <td>1.664</td>\n",
       "      <td>1.664</td>\n",
       "    </tr>\n",
       "    <tr>\n",
       "      <th>4</th>\n",
       "      <td>01-01-1996 0024</td>\n",
       "      <td>1.654</td>\n",
       "      <td>1.654</td>\n",
       "    </tr>\n",
       "    <tr>\n",
       "      <th>5</th>\n",
       "      <td>01-01-1996 0030</td>\n",
       "      <td>1.647</td>\n",
       "      <td>1.647</td>\n",
       "    </tr>\n",
       "    <tr>\n",
       "      <th>6</th>\n",
       "      <td>01-01-1996 0036</td>\n",
       "      <td>1.66</td>\n",
       "      <td>1.660</td>\n",
       "    </tr>\n",
       "    <tr>\n",
       "      <th>7</th>\n",
       "      <td>01-01-1996 0042</td>\n",
       "      <td>1.655</td>\n",
       "      <td>1.655</td>\n",
       "    </tr>\n",
       "    <tr>\n",
       "      <th>8</th>\n",
       "      <td>01-01-1996 0048</td>\n",
       "      <td>1.652</td>\n",
       "      <td>1.652</td>\n",
       "    </tr>\n",
       "    <tr>\n",
       "      <th>9</th>\n",
       "      <td>01-01-1996 0054</td>\n",
       "      <td>1.627</td>\n",
       "      <td>1.627</td>\n",
       "    </tr>\n",
       "  </tbody>\n",
       "</table>\n",
       "</div>"
      ],
      "text/plain": [
       "             Dates Lighthouse WL  NOAA WL\n",
       "0  01-01-1996 0000         1.634    1.634\n",
       "1  01-01-1996 0006         1.648    1.648\n",
       "2  01-01-1996 0012         1.657    1.657\n",
       "3  01-01-1996 0018         1.664    1.664\n",
       "4  01-01-1996 0024         1.654    1.654\n",
       "5  01-01-1996 0030         1.647    1.647\n",
       "6  01-01-1996 0036          1.66    1.660\n",
       "7  01-01-1996 0042         1.655    1.655\n",
       "8  01-01-1996 0048         1.652    1.652\n",
       "9  01-01-1996 0054         1.627    1.627"
      ]
     },
     "execution_count": 104,
     "metadata": {},
     "output_type": "execute_result"
    }
   ],
   "source": [
    "comparison_df = pd.DataFrame()\n",
    "comparison_df['Dates'] = p21_LH['#date+time']\n",
    "comparison_df['Lighthouse WL'] = p21_LH['022-pwl']\n",
    "comparison_df['NOAA WL'] = p21_NOAA[' Water Level']\n",
    "comparison_df.head(10)"
   ]
  },
  {
   "cell_type": "code",
   "execution_count": 105,
   "metadata": {},
   "outputs": [
    {
     "data": {
      "text/html": [
       "<div>\n",
       "<style scoped>\n",
       "    .dataframe tbody tr th:only-of-type {\n",
       "        vertical-align: middle;\n",
       "    }\n",
       "\n",
       "    .dataframe tbody tr th {\n",
       "        vertical-align: top;\n",
       "    }\n",
       "\n",
       "    .dataframe thead th {\n",
       "        text-align: right;\n",
       "    }\n",
       "</style>\n",
       "<table border=\"1\" class=\"dataframe\">\n",
       "  <thead>\n",
       "    <tr style=\"text-align: right;\">\n",
       "      <th></th>\n",
       "      <th>Dates</th>\n",
       "      <th>Lighthouse WL</th>\n",
       "      <th>NOAA WL</th>\n",
       "    </tr>\n",
       "  </thead>\n",
       "  <tbody>\n",
       "    <tr>\n",
       "      <th>2454475</th>\n",
       "      <td>2023-12-31 23:30:00</td>\n",
       "      <td>1.547</td>\n",
       "      <td>1.548</td>\n",
       "    </tr>\n",
       "    <tr>\n",
       "      <th>2454476</th>\n",
       "      <td>2023-12-31 23:36:00</td>\n",
       "      <td>1.548</td>\n",
       "      <td>1.542</td>\n",
       "    </tr>\n",
       "    <tr>\n",
       "      <th>2454477</th>\n",
       "      <td>2023-12-31 23:42:00</td>\n",
       "      <td>1.542</td>\n",
       "      <td>1.553</td>\n",
       "    </tr>\n",
       "    <tr>\n",
       "      <th>2454478</th>\n",
       "      <td>2023-12-31 23:48:00</td>\n",
       "      <td>1.553</td>\n",
       "      <td>1.579</td>\n",
       "    </tr>\n",
       "    <tr>\n",
       "      <th>2454479</th>\n",
       "      <td>2023-12-31 23:54:00</td>\n",
       "      <td>1.579</td>\n",
       "      <td>1.580</td>\n",
       "    </tr>\n",
       "  </tbody>\n",
       "</table>\n",
       "</div>"
      ],
      "text/plain": [
       "                      Dates  Lighthouse WL  NOAA WL\n",
       "2454475 2023-12-31 23:30:00          1.547    1.548\n",
       "2454476 2023-12-31 23:36:00          1.548    1.542\n",
       "2454477 2023-12-31 23:42:00          1.542    1.553\n",
       "2454478 2023-12-31 23:48:00          1.553    1.579\n",
       "2454479 2023-12-31 23:54:00          1.579    1.580"
      ]
     },
     "execution_count": 105,
     "metadata": {},
     "output_type": "execute_result"
    }
   ],
   "source": [
    "comparison_df['Dates'] = pd.to_datetime(comparison_df['Dates'])\n",
    "comparison_df['Lighthouse WL'].replace([-999, -99, 99, 'NA', 'RM'], np.nan, inplace=True)\n",
    "comparison_df['NOAA WL'].replace([-999, -99, 99, 'NA', 'RM'], np.nan, inplace=True)\n",
    "comparison_df['Lighthouse WL'] = pd.to_numeric(comparison_df['Lighthouse WL'],errors= 'coerce')\n",
    "comparison_df['NOAA WL'] = pd.to_numeric(comparison_df['NOAA WL'],errors='coerce')\n",
    "comparison_df.tail()"
   ]
  },
  {
   "cell_type": "code",
   "execution_count": 106,
   "metadata": {},
   "outputs": [
    {
     "data": {
      "text/plain": [
       "(1.0, 2.0)"
      ]
     },
     "execution_count": 106,
     "metadata": {},
     "output_type": "execute_result"
    },
    {
     "data": {
      "image/png": "[encoded data removed]",
      "text/plain": [
       "<Figure size 640x480 with 1 Axes>"
      ]
     },
     "metadata": {},
     "output_type": "display_data"
    }
   ],
   "source": [
    "plt.plot(comparison_df['Lighthouse WL'], label = 'Lighthouse')\n",
    "\n",
    "plt.plot(comparison_df['NOAA WL'], label = 'NOAA')\n",
    "plt.title('LH and NOAA Water Level (M)')\n",
    "plt.legend(frameon= False)\n",
    "plt.xlim(1584930,1584980)\n",
    "plt.ylim(1,2)"
   ]
  },
  {
   "cell_type": "code",
   "execution_count": 107,
   "metadata": {},
   "outputs": [
    {
     "name": "stdout",
     "output_type": "stream",
     "text": [
      "1996-04-23 00:54:00\n"
     ]
    }
   ],
   "source": [
    "for i in range(len(comparison_df)):\n",
    "    if comparison_df.loc[i]['Lighthouse WL'] != comparison_df.loc[i]['NOAA WL']:\n",
    "        print(comparison_df.loc[i]['Dates'])\n",
    "        break\n"
   ]
  },
  {
   "cell_type": "code",
   "execution_count": 108,
   "metadata": {},
   "outputs": [],
   "source": [
    "#function to find the index of a date range\n",
    "def date_index_locater(start_date,end_date):\n",
    "    indices = []\n",
    "# Filter rows by date range\n",
    "    date_range_filter = (comparison_df['Dates'] >= start_date) & (comparison_df['Dates'] <= end_date)\n",
    "\n",
    "# Get the indices of the rows within the date range\n",
    "    indices = (comparison_df[date_range_filter].index.tolist())\n",
    "\n",
    "    return(indices)\n"
   ]
  },
  {
   "cell_type": "code",
   "execution_count": 109,
   "metadata": {},
   "outputs": [
    {
     "data": {
      "text/html": [
       "<div>\n",
       "<style scoped>\n",
       "    .dataframe tbody tr th:only-of-type {\n",
       "        vertical-align: middle;\n",
       "    }\n",
       "\n",
       "    .dataframe tbody tr th {\n",
       "        vertical-align: top;\n",
       "    }\n",
       "\n",
       "    .dataframe thead th {\n",
       "        text-align: right;\n",
       "    }\n",
       "</style>\n",
       "<table border=\"1\" class=\"dataframe\">\n",
       "  <thead>\n",
       "    <tr style=\"text-align: right;\">\n",
       "      <th></th>\n",
       "      <th>Dates</th>\n",
       "      <th>Lighthouse WL</th>\n",
       "      <th>NOAA WL</th>\n",
       "    </tr>\n",
       "  </thead>\n",
       "  <tbody>\n",
       "    <tr>\n",
       "      <th>1584937</th>\n",
       "      <td>2014-01-29 21:42:00</td>\n",
       "      <td>NaN</td>\n",
       "      <td>1.807</td>\n",
       "    </tr>\n",
       "    <tr>\n",
       "      <th>1584938</th>\n",
       "      <td>2014-01-29 21:48:00</td>\n",
       "      <td>NaN</td>\n",
       "      <td>1.814</td>\n",
       "    </tr>\n",
       "    <tr>\n",
       "      <th>1584939</th>\n",
       "      <td>2014-01-29 21:54:00</td>\n",
       "      <td>NaN</td>\n",
       "      <td>1.796</td>\n",
       "    </tr>\n",
       "    <tr>\n",
       "      <th>1584940</th>\n",
       "      <td>2014-01-29 22:00:00</td>\n",
       "      <td>NaN</td>\n",
       "      <td>1.795</td>\n",
       "    </tr>\n",
       "    <tr>\n",
       "      <th>1584941</th>\n",
       "      <td>2014-01-29 22:06:00</td>\n",
       "      <td>NaN</td>\n",
       "      <td>1.803</td>\n",
       "    </tr>\n",
       "    <tr>\n",
       "      <th>1584942</th>\n",
       "      <td>2014-01-29 22:12:00</td>\n",
       "      <td>1.800</td>\n",
       "      <td>1.809</td>\n",
       "    </tr>\n",
       "    <tr>\n",
       "      <th>1584943</th>\n",
       "      <td>2014-01-29 22:18:00</td>\n",
       "      <td>1.806</td>\n",
       "      <td>1.792</td>\n",
       "    </tr>\n",
       "    <tr>\n",
       "      <th>1584944</th>\n",
       "      <td>2014-01-29 22:24:00</td>\n",
       "      <td>1.789</td>\n",
       "      <td>1.805</td>\n",
       "    </tr>\n",
       "    <tr>\n",
       "      <th>1584945</th>\n",
       "      <td>2014-01-29 22:30:00</td>\n",
       "      <td>1.802</td>\n",
       "      <td>1.782</td>\n",
       "    </tr>\n",
       "    <tr>\n",
       "      <th>1584946</th>\n",
       "      <td>2014-01-29 22:36:00</td>\n",
       "      <td>1.779</td>\n",
       "      <td>1.787</td>\n",
       "    </tr>\n",
       "  </tbody>\n",
       "</table>\n",
       "</div>"
      ],
      "text/plain": [
       "                      Dates  Lighthouse WL  NOAA WL\n",
       "1584937 2014-01-29 21:42:00            NaN    1.807\n",
       "1584938 2014-01-29 21:48:00            NaN    1.814\n",
       "1584939 2014-01-29 21:54:00            NaN    1.796\n",
       "1584940 2014-01-29 22:00:00            NaN    1.795\n",
       "1584941 2014-01-29 22:06:00            NaN    1.803\n",
       "1584942 2014-01-29 22:12:00          1.800    1.809\n",
       "1584943 2014-01-29 22:18:00          1.806    1.792\n",
       "1584944 2014-01-29 22:24:00          1.789    1.805\n",
       "1584945 2014-01-29 22:30:00          1.802    1.782\n",
       "1584946 2014-01-29 22:36:00          1.779    1.787"
      ]
     },
     "execution_count": 109,
     "metadata": {},
     "output_type": "execute_result"
    }
   ],
   "source": [
    "comparison_df[1584937:1584947]"
   ]
  },
  {
   "cell_type": "markdown",
   "metadata": {},
   "source": [
    "Data coming back in from lighthouse looks to be off by 6 min and 0.003M offset"
   ]
  },
  {
   "cell_type": "code",
   "execution_count": 110,
   "metadata": {},
   "outputs": [
    {
     "data": {
      "text/html": [
       "<div>\n",
       "<style scoped>\n",
       "    .dataframe tbody tr th:only-of-type {\n",
       "        vertical-align: middle;\n",
       "    }\n",
       "\n",
       "    .dataframe tbody tr th {\n",
       "        vertical-align: top;\n",
       "    }\n",
       "\n",
       "    .dataframe thead th {\n",
       "        text-align: right;\n",
       "    }\n",
       "</style>\n",
       "<table border=\"1\" class=\"dataframe\">\n",
       "  <thead>\n",
       "    <tr style=\"text-align: right;\">\n",
       "      <th></th>\n",
       "      <th>Dates</th>\n",
       "      <th>Lighthouse WL</th>\n",
       "      <th>NOAA WL</th>\n",
       "      <th>Shifted LH WL</th>\n",
       "    </tr>\n",
       "  </thead>\n",
       "  <tbody>\n",
       "    <tr>\n",
       "      <th>1584937</th>\n",
       "      <td>2014-01-29 21:42:00</td>\n",
       "      <td>NaN</td>\n",
       "      <td>1.807</td>\n",
       "      <td>NaN</td>\n",
       "    </tr>\n",
       "    <tr>\n",
       "      <th>1584938</th>\n",
       "      <td>2014-01-29 21:48:00</td>\n",
       "      <td>NaN</td>\n",
       "      <td>1.814</td>\n",
       "      <td>NaN</td>\n",
       "    </tr>\n",
       "    <tr>\n",
       "      <th>1584939</th>\n",
       "      <td>2014-01-29 21:54:00</td>\n",
       "      <td>NaN</td>\n",
       "      <td>1.796</td>\n",
       "      <td>NaN</td>\n",
       "    </tr>\n",
       "    <tr>\n",
       "      <th>1584940</th>\n",
       "      <td>2014-01-29 22:00:00</td>\n",
       "      <td>NaN</td>\n",
       "      <td>1.795</td>\n",
       "      <td>NaN</td>\n",
       "    </tr>\n",
       "    <tr>\n",
       "      <th>1584941</th>\n",
       "      <td>2014-01-29 22:06:00</td>\n",
       "      <td>NaN</td>\n",
       "      <td>1.803</td>\n",
       "      <td>1.800</td>\n",
       "    </tr>\n",
       "    <tr>\n",
       "      <th>1584942</th>\n",
       "      <td>2014-01-29 22:12:00</td>\n",
       "      <td>1.800</td>\n",
       "      <td>1.809</td>\n",
       "      <td>1.806</td>\n",
       "    </tr>\n",
       "    <tr>\n",
       "      <th>1584943</th>\n",
       "      <td>2014-01-29 22:18:00</td>\n",
       "      <td>1.806</td>\n",
       "      <td>1.792</td>\n",
       "      <td>1.789</td>\n",
       "    </tr>\n",
       "    <tr>\n",
       "      <th>1584944</th>\n",
       "      <td>2014-01-29 22:24:00</td>\n",
       "      <td>1.789</td>\n",
       "      <td>1.805</td>\n",
       "      <td>1.802</td>\n",
       "    </tr>\n",
       "    <tr>\n",
       "      <th>1584945</th>\n",
       "      <td>2014-01-29 22:30:00</td>\n",
       "      <td>1.802</td>\n",
       "      <td>1.782</td>\n",
       "      <td>1.779</td>\n",
       "    </tr>\n",
       "    <tr>\n",
       "      <th>1584946</th>\n",
       "      <td>2014-01-29 22:36:00</td>\n",
       "      <td>1.779</td>\n",
       "      <td>1.787</td>\n",
       "      <td>1.784</td>\n",
       "    </tr>\n",
       "  </tbody>\n",
       "</table>\n",
       "</div>"
      ],
      "text/plain": [
       "                      Dates  Lighthouse WL  NOAA WL  Shifted LH WL\n",
       "1584937 2014-01-29 21:42:00            NaN    1.807            NaN\n",
       "1584938 2014-01-29 21:48:00            NaN    1.814            NaN\n",
       "1584939 2014-01-29 21:54:00            NaN    1.796            NaN\n",
       "1584940 2014-01-29 22:00:00            NaN    1.795            NaN\n",
       "1584941 2014-01-29 22:06:00            NaN    1.803          1.800\n",
       "1584942 2014-01-29 22:12:00          1.800    1.809          1.806\n",
       "1584943 2014-01-29 22:18:00          1.806    1.792          1.789\n",
       "1584944 2014-01-29 22:24:00          1.789    1.805          1.802\n",
       "1584945 2014-01-29 22:30:00          1.802    1.782          1.779\n",
       "1584946 2014-01-29 22:36:00          1.779    1.787          1.784"
      ]
     },
     "execution_count": 110,
     "metadata": {},
     "output_type": "execute_result"
    }
   ],
   "source": [
    "revised_LH = pd.DataFrame()\n",
    "revised_LH['Adjusted LH WL'] = comparison_df['Lighthouse WL']\n",
    "revised_LH.drop(1584941,axis = 0, inplace=True)\n",
    "revised_LH.reset_index(drop = True, inplace=True)\n",
    "comparison_df['Shifted LH WL'] = revised_LH['Adjusted LH WL']\n",
    "comparison_df[1584937:1584947]"
   ]
  },
  {
   "cell_type": "code",
   "execution_count": 111,
   "metadata": {},
   "outputs": [
    {
     "data": {
      "text/plain": [
       "(1.0, 2.0)"
      ]
     },
     "execution_count": 111,
     "metadata": {},
     "output_type": "execute_result"
    },
    {
     "data": {
      "image/png": "[encoded data removed]",
      "text/plain": [
       "<Figure size 640x480 with 1 Axes>"
      ]
     },
     "metadata": {},
     "output_type": "display_data"
    }
   ],
   "source": [
    "plt.plot(comparison_df['Shifted LH WL'], label = 'Lighthouse')\n",
    "\n",
    "plt.plot(comparison_df['NOAA WL'], label = 'NOAA')\n",
    "plt.title('LH and NOAA Water Level (M)')\n",
    "plt.legend(frameon= False)\n",
    "plt.xlim(1584930,1584980)\n",
    "plt.ylim(1,2)"
   ]
  },
  {
   "cell_type": "code",
   "execution_count": 135,
   "metadata": {},
   "outputs": [],
   "source": [
    "differences = comparison_df['Shifted LH WL'] - comparison_df['NOAA WL']\n",
    "non_zero_differences = differences != 0\n",
    "\n",
    "filtered_differences = differences[non_zero_differences]\n",
    "filtered_dates = comparison_df['Dates'][non_zero_differences]\n",
    "\n",
    "# Convert the results to DataFrames\n",
    "differences_df = filtered_differences.to_frame(name='Difference')\n",
    "dates_df = filtered_dates.to_frame(name='Date')\n",
    "\n",
    "# Combine the two DataFrames\n",
    "remaining_differences = differences_df.join(dates_df, how='inner')\n",
    "\n",
    "cleaned_remaining_differences = remaining_differences.dropna()\n",
    "cleaned_remaining_differences.reset_index(drop = True, inplace=True)\n",
    "\n",
    "cleaned_remaining_differences.to_clipboard()"
   ]
  },
  {
   "cell_type": "markdown",
   "metadata": {},
   "source": [
    "Finds the Double points"
   ]
  },
  {
   "cell_type": "code",
   "execution_count": 113,
   "metadata": {},
   "outputs": [],
   "source": [
    "\n",
    "mask = comparison_df['NOAA WL'] == comparison_df['NOAA WL'].shift(-1)\n",
    "\n",
    "# Use the mask to filter the DataFrame and get the double values and dates\n",
    "double_values = comparison_df.loc[mask, 'NOAA WL'].to_frame()\n",
    "double_dates = comparison_df.loc[mask, 'Dates'].to_frame()"
   ]
  },
  {
   "cell_type": "code",
   "execution_count": 114,
   "metadata": {},
   "outputs": [
    {
     "data": {
      "text/plain": [
       "91399"
      ]
     },
     "execution_count": 114,
     "metadata": {},
     "output_type": "execute_result"
    }
   ],
   "source": [
    "len(double_values)"
   ]
  },
  {
   "cell_type": "code",
   "execution_count": 115,
   "metadata": {},
   "outputs": [
    {
     "data": {
      "text/html": [
       "<div>\n",
       "<style scoped>\n",
       "    .dataframe tbody tr th:only-of-type {\n",
       "        vertical-align: middle;\n",
       "    }\n",
       "\n",
       "    .dataframe tbody tr th {\n",
       "        vertical-align: top;\n",
       "    }\n",
       "\n",
       "    .dataframe thead th {\n",
       "        text-align: right;\n",
       "    }\n",
       "</style>\n",
       "<table border=\"1\" class=\"dataframe\">\n",
       "  <thead>\n",
       "    <tr style=\"text-align: right;\">\n",
       "      <th></th>\n",
       "      <th>Dates</th>\n",
       "    </tr>\n",
       "  </thead>\n",
       "  <tbody>\n",
       "    <tr>\n",
       "      <th>20</th>\n",
       "      <td>1996-01-01 02:00:00</td>\n",
       "    </tr>\n",
       "    <tr>\n",
       "      <th>31</th>\n",
       "      <td>1996-01-01 03:06:00</td>\n",
       "    </tr>\n",
       "    <tr>\n",
       "      <th>41</th>\n",
       "      <td>1996-01-01 04:06:00</td>\n",
       "    </tr>\n",
       "    <tr>\n",
       "      <th>49</th>\n",
       "      <td>1996-01-01 04:54:00</td>\n",
       "    </tr>\n",
       "    <tr>\n",
       "      <th>50</th>\n",
       "      <td>1996-01-01 05:00:00</td>\n",
       "    </tr>\n",
       "    <tr>\n",
       "      <th>...</th>\n",
       "      <td>...</td>\n",
       "    </tr>\n",
       "    <tr>\n",
       "      <th>2454324</th>\n",
       "      <td>2023-12-31 08:24:00</td>\n",
       "    </tr>\n",
       "    <tr>\n",
       "      <th>2454341</th>\n",
       "      <td>2023-12-31 10:06:00</td>\n",
       "    </tr>\n",
       "    <tr>\n",
       "      <th>2454348</th>\n",
       "      <td>2023-12-31 10:48:00</td>\n",
       "    </tr>\n",
       "    <tr>\n",
       "      <th>2454397</th>\n",
       "      <td>2023-12-31 15:42:00</td>\n",
       "    </tr>\n",
       "    <tr>\n",
       "      <th>2454459</th>\n",
       "      <td>2023-12-31 21:54:00</td>\n",
       "    </tr>\n",
       "  </tbody>\n",
       "</table>\n",
       "<p>91399 rows × 1 columns</p>\n",
       "</div>"
      ],
      "text/plain": [
       "                      Dates\n",
       "20      1996-01-01 02:00:00\n",
       "31      1996-01-01 03:06:00\n",
       "41      1996-01-01 04:06:00\n",
       "49      1996-01-01 04:54:00\n",
       "50      1996-01-01 05:00:00\n",
       "...                     ...\n",
       "2454324 2023-12-31 08:24:00\n",
       "2454341 2023-12-31 10:06:00\n",
       "2454348 2023-12-31 10:48:00\n",
       "2454397 2023-12-31 15:42:00\n",
       "2454459 2023-12-31 21:54:00\n",
       "\n",
       "[91399 rows x 1 columns]"
      ]
     },
     "execution_count": 115,
     "metadata": {},
     "output_type": "execute_result"
    }
   ],
   "source": [
    "double_dates"
   ]
  },
  {
   "cell_type": "code",
   "execution_count": 116,
   "metadata": {},
   "outputs": [
    {
     "data": {
      "text/html": [
       "<div>\n",
       "<style scoped>\n",
       "    .dataframe tbody tr th:only-of-type {\n",
       "        vertical-align: middle;\n",
       "    }\n",
       "\n",
       "    .dataframe tbody tr th {\n",
       "        vertical-align: top;\n",
       "    }\n",
       "\n",
       "    .dataframe thead th {\n",
       "        text-align: right;\n",
       "    }\n",
       "</style>\n",
       "<table border=\"1\" class=\"dataframe\">\n",
       "  <thead>\n",
       "    <tr style=\"text-align: right;\">\n",
       "      <th></th>\n",
       "      <th>Dates</th>\n",
       "      <th>Lighthouse WL</th>\n",
       "      <th>NOAA WL</th>\n",
       "      <th>Shifted LH WL</th>\n",
       "    </tr>\n",
       "  </thead>\n",
       "  <tbody>\n",
       "    <tr>\n",
       "      <th>19</th>\n",
       "      <td>1996-01-01 01:54:00</td>\n",
       "      <td>1.658</td>\n",
       "      <td>1.658</td>\n",
       "      <td>1.658</td>\n",
       "    </tr>\n",
       "    <tr>\n",
       "      <th>20</th>\n",
       "      <td>1996-01-01 02:00:00</td>\n",
       "      <td>1.644</td>\n",
       "      <td>1.644</td>\n",
       "      <td>1.644</td>\n",
       "    </tr>\n",
       "    <tr>\n",
       "      <th>21</th>\n",
       "      <td>1996-01-01 02:06:00</td>\n",
       "      <td>1.644</td>\n",
       "      <td>1.644</td>\n",
       "      <td>1.644</td>\n",
       "    </tr>\n",
       "    <tr>\n",
       "      <th>22</th>\n",
       "      <td>1996-01-01 02:12:00</td>\n",
       "      <td>1.648</td>\n",
       "      <td>1.648</td>\n",
       "      <td>1.648</td>\n",
       "    </tr>\n",
       "    <tr>\n",
       "      <th>23</th>\n",
       "      <td>1996-01-01 02:18:00</td>\n",
       "      <td>1.670</td>\n",
       "      <td>1.670</td>\n",
       "      <td>1.670</td>\n",
       "    </tr>\n",
       "    <tr>\n",
       "      <th>24</th>\n",
       "      <td>1996-01-01 02:24:00</td>\n",
       "      <td>1.680</td>\n",
       "      <td>1.680</td>\n",
       "      <td>1.680</td>\n",
       "    </tr>\n",
       "    <tr>\n",
       "      <th>25</th>\n",
       "      <td>1996-01-01 02:30:00</td>\n",
       "      <td>1.685</td>\n",
       "      <td>1.685</td>\n",
       "      <td>1.685</td>\n",
       "    </tr>\n",
       "    <tr>\n",
       "      <th>26</th>\n",
       "      <td>1996-01-01 02:36:00</td>\n",
       "      <td>1.688</td>\n",
       "      <td>1.688</td>\n",
       "      <td>1.688</td>\n",
       "    </tr>\n",
       "    <tr>\n",
       "      <th>27</th>\n",
       "      <td>1996-01-01 02:42:00</td>\n",
       "      <td>1.676</td>\n",
       "      <td>1.676</td>\n",
       "      <td>1.676</td>\n",
       "    </tr>\n",
       "    <tr>\n",
       "      <th>28</th>\n",
       "      <td>1996-01-01 02:48:00</td>\n",
       "      <td>1.687</td>\n",
       "      <td>1.687</td>\n",
       "      <td>1.687</td>\n",
       "    </tr>\n",
       "    <tr>\n",
       "      <th>29</th>\n",
       "      <td>1996-01-01 02:54:00</td>\n",
       "      <td>1.694</td>\n",
       "      <td>1.694</td>\n",
       "      <td>1.694</td>\n",
       "    </tr>\n",
       "    <tr>\n",
       "      <th>30</th>\n",
       "      <td>1996-01-01 03:00:00</td>\n",
       "      <td>1.690</td>\n",
       "      <td>1.690</td>\n",
       "      <td>1.690</td>\n",
       "    </tr>\n",
       "    <tr>\n",
       "      <th>31</th>\n",
       "      <td>1996-01-01 03:06:00</td>\n",
       "      <td>1.675</td>\n",
       "      <td>1.675</td>\n",
       "      <td>1.675</td>\n",
       "    </tr>\n",
       "  </tbody>\n",
       "</table>\n",
       "</div>"
      ],
      "text/plain": [
       "                 Dates  Lighthouse WL  NOAA WL  Shifted LH WL\n",
       "19 1996-01-01 01:54:00          1.658    1.658          1.658\n",
       "20 1996-01-01 02:00:00          1.644    1.644          1.644\n",
       "21 1996-01-01 02:06:00          1.644    1.644          1.644\n",
       "22 1996-01-01 02:12:00          1.648    1.648          1.648\n",
       "23 1996-01-01 02:18:00          1.670    1.670          1.670\n",
       "24 1996-01-01 02:24:00          1.680    1.680          1.680\n",
       "25 1996-01-01 02:30:00          1.685    1.685          1.685\n",
       "26 1996-01-01 02:36:00          1.688    1.688          1.688\n",
       "27 1996-01-01 02:42:00          1.676    1.676          1.676\n",
       "28 1996-01-01 02:48:00          1.687    1.687          1.687\n",
       "29 1996-01-01 02:54:00          1.694    1.694          1.694\n",
       "30 1996-01-01 03:00:00          1.690    1.690          1.690\n",
       "31 1996-01-01 03:06:00          1.675    1.675          1.675"
      ]
     },
     "execution_count": 116,
     "metadata": {},
     "output_type": "execute_result"
    }
   ],
   "source": [
    "comparison_df[19:32]"
   ]
  },
  {
   "cell_type": "markdown",
   "metadata": {},
   "source": [
    "Filters the differences to anything greater than 0.005"
   ]
  },
  {
   "cell_type": "code",
   "execution_count": 117,
   "metadata": {},
   "outputs": [
    {
     "data": {
      "text/plain": [
       "249768"
      ]
     },
     "execution_count": 117,
     "metadata": {},
     "output_type": "execute_result"
    }
   ],
   "source": [
    "mask = abs(cleaned_remaining_differences['Difference']) >= 0.005\n",
    "\n",
    "cleaned_remaining_differences = cleaned_remaining_differences[mask]\n",
    "\n",
    "len(cleaned_remaining_differences)"
   ]
  },
  {
   "cell_type": "code",
   "execution_count": 118,
   "metadata": {},
   "outputs": [],
   "source": [
    "for i in range(1, 11):\n",
    "    cleaned_remaining_differences[f'Next_{i}'] = cleaned_remaining_differences['Difference'].shift(-i)\n",
    "\n",
    "# Check if the current value is equal to the next 10 values\n",
    "cleaned_remaining_differences['All_Next_10_Equal'] = cleaned_remaining_differences.apply(lambda row: all(row['Difference'] == row[f'Next_{i}'] for i in range(1, 11)), axis=1)\n",
    "\n",
    "# Drop the helper columns if they are no longer needed\n",
    "cleaned_remaining_differences.drop(columns=[f'Next_{i}' for i in range(1, 11)], inplace=True)\n"
   ]
  },
  {
   "cell_type": "markdown",
   "metadata": {},
   "source": []
  },
  {
   "cell_type": "code",
   "execution_count": 119,
   "metadata": {},
   "outputs": [
    {
     "data": {
      "text/plain": [
       "141818"
      ]
     },
     "execution_count": 119,
     "metadata": {},
     "output_type": "execute_result"
    }
   ],
   "source": [
    "false_count = cleaned_remaining_differences['All_Next_10_Equal'].value_counts()[False]\n",
    "false_count"
   ]
  },
  {
   "cell_type": "markdown",
   "metadata": {},
   "source": [
    "Drops all false values"
   ]
  },
  {
   "cell_type": "code",
   "execution_count": 121,
   "metadata": {},
   "outputs": [],
   "source": [
    "mask = cleaned_remaining_differences['All_Next_10_Equal'] == True\n",
    "\n",
    "# Filter the DataFrame using the mask\n",
    "cleaned_remaining_differences = cleaned_remaining_differences[mask]\n",
    "\n",
    "# Reset index if needed\n",
    "cleaned_remaining_differences.reset_index(drop=True, inplace=True)\n"
   ]
  },
  {
   "cell_type": "code",
   "execution_count": 124,
   "metadata": {},
   "outputs": [
    {
     "data": {
      "text/html": [
       "<div>\n",
       "<style scoped>\n",
       "    .dataframe tbody tr th:only-of-type {\n",
       "        vertical-align: middle;\n",
       "    }\n",
       "\n",
       "    .dataframe tbody tr th {\n",
       "        vertical-align: top;\n",
       "    }\n",
       "\n",
       "    .dataframe thead th {\n",
       "        text-align: right;\n",
       "    }\n",
       "</style>\n",
       "<table border=\"1\" class=\"dataframe\">\n",
       "  <thead>\n",
       "    <tr style=\"text-align: right;\">\n",
       "      <th></th>\n",
       "      <th>Difference</th>\n",
       "      <th>Date</th>\n",
       "      <th>All_Next_10_Equal</th>\n",
       "    </tr>\n",
       "  </thead>\n",
       "  <tbody>\n",
       "    <tr>\n",
       "      <th>0</th>\n",
       "      <td>-0.006</td>\n",
       "      <td>2009-07-14 10:48:00</td>\n",
       "      <td>True</td>\n",
       "    </tr>\n",
       "    <tr>\n",
       "      <th>1</th>\n",
       "      <td>-0.005</td>\n",
       "      <td>2011-10-11 14:18:00</td>\n",
       "      <td>True</td>\n",
       "    </tr>\n",
       "    <tr>\n",
       "      <th>2</th>\n",
       "      <td>-0.005</td>\n",
       "      <td>2011-10-11 14:30:00</td>\n",
       "      <td>True</td>\n",
       "    </tr>\n",
       "    <tr>\n",
       "      <th>3</th>\n",
       "      <td>-0.005</td>\n",
       "      <td>2011-10-11 15:18:00</td>\n",
       "      <td>True</td>\n",
       "    </tr>\n",
       "    <tr>\n",
       "      <th>4</th>\n",
       "      <td>-0.005</td>\n",
       "      <td>2011-10-11 15:24:00</td>\n",
       "      <td>True</td>\n",
       "    </tr>\n",
       "    <tr>\n",
       "      <th>...</th>\n",
       "      <td>...</td>\n",
       "      <td>...</td>\n",
       "      <td>...</td>\n",
       "    </tr>\n",
       "    <tr>\n",
       "      <th>107945</th>\n",
       "      <td>-0.021</td>\n",
       "      <td>2023-05-29 17:30:00</td>\n",
       "      <td>True</td>\n",
       "    </tr>\n",
       "    <tr>\n",
       "      <th>107946</th>\n",
       "      <td>-0.021</td>\n",
       "      <td>2023-05-29 17:36:00</td>\n",
       "      <td>True</td>\n",
       "    </tr>\n",
       "    <tr>\n",
       "      <th>107947</th>\n",
       "      <td>-0.021</td>\n",
       "      <td>2023-05-29 17:42:00</td>\n",
       "      <td>True</td>\n",
       "    </tr>\n",
       "    <tr>\n",
       "      <th>107948</th>\n",
       "      <td>-0.021</td>\n",
       "      <td>2023-05-29 17:48:00</td>\n",
       "      <td>True</td>\n",
       "    </tr>\n",
       "    <tr>\n",
       "      <th>107949</th>\n",
       "      <td>-0.021</td>\n",
       "      <td>2023-05-29 17:54:00</td>\n",
       "      <td>True</td>\n",
       "    </tr>\n",
       "  </tbody>\n",
       "</table>\n",
       "<p>107950 rows × 3 columns</p>\n",
       "</div>"
      ],
      "text/plain": [
       "        Difference                Date  All_Next_10_Equal\n",
       "0           -0.006 2009-07-14 10:48:00               True\n",
       "1           -0.005 2011-10-11 14:18:00               True\n",
       "2           -0.005 2011-10-11 14:30:00               True\n",
       "3           -0.005 2011-10-11 15:18:00               True\n",
       "4           -0.005 2011-10-11 15:24:00               True\n",
       "...            ...                 ...                ...\n",
       "107945      -0.021 2023-05-29 17:30:00               True\n",
       "107946      -0.021 2023-05-29 17:36:00               True\n",
       "107947      -0.021 2023-05-29 17:42:00               True\n",
       "107948      -0.021 2023-05-29 17:48:00               True\n",
       "107949      -0.021 2023-05-29 17:54:00               True\n",
       "\n",
       "[107950 rows x 3 columns]"
      ]
     },
     "execution_count": 124,
     "metadata": {},
     "output_type": "execute_result"
    }
   ],
   "source": [
    "cleaned_remaining_differences"
   ]
  },
  {
   "cell_type": "markdown",
   "metadata": {},
   "source": [
    "Looking in excell \n",
    "2009-07-14 10:48 -0.006 difference\n",
    "2011-10-11 14:18 - 2011-11-01 08:06 -0.005 offset\n",
    "2020-11-16 13:18 - 2023-04-27 13:42 -0.01 offset\n",
    "2023-04-28 16:48 - 2023-04-30 20:24 0.008 offset\n",
    "2023-05-09 00:54 - 2023-05-29 17:54 -0.12 offset"
   ]
  },
  {
   "cell_type": "code",
   "execution_count": null,
   "metadata": {},
   "outputs": [],
   "source": []
  },
  {
   "cell_type": "markdown",
   "metadata": {},
   "source": [
    "Looking further at the data in july for 2007 there are offsets everhwehre that arent equal correction will be close to impossible"
   ]
  },
  {
   "cell_type": "code",
   "execution_count": 149,
   "metadata": {},
   "outputs": [
    {
     "name": "stderr",
     "output_type": "stream",
     "text": [
      "Locator attempting to generate 1125 ticks ([8994.0, ..., 20234.0]), which exceeds Locator.MAXTICKS (1000).\n",
      "Locator attempting to generate 1125 ticks ([8994.0, ..., 20234.0]), which exceeds Locator.MAXTICKS (1000).\n",
      "Locator attempting to generate 1125 ticks ([8994.0, ..., 20234.0]), which exceeds Locator.MAXTICKS (1000).\n"
     ]
    },
    {
     "data": {
      "text/plain": [
       "Text(0.5, 1.0, '0.006 Offset')"
      ]
     },
     "execution_count": 149,
     "metadata": {},
     "output_type": "execute_result"
    },
    {
     "data": {
      "image/png": "[encoded data removed]",
      "text/plain": [
       "<Figure size 640x480 with 1 Axes>"
      ]
     },
     "metadata": {},
     "output_type": "display_data"
    }
   ],
   "source": [
    "plt.plot(comparison_df['Dates'],comparison_df['Shifted LH WL'],label = 'Lighthouse')\n",
    "\n",
    "plt.plot(comparison_df['Dates'],comparison_df['NOAA WL'],label = 'NOAA')\n",
    "\n",
    "plt.gca().xaxis.set_major_formatter(mdates.DateFormatter('%Y-%m-%d %H:%M'))\n",
    "\n",
    "plt.gca().xaxis.set_major_locator(mdates.DayLocator(interval=10))\n",
    "\n",
    "plt.gcf().autofmt_xdate()\n",
    "\n",
    "plt.ylim(1.5,1.8)\n",
    "\n",
    "start_date = pd.to_datetime('2009-07-14 08:48')\n",
    "\n",
    "end_date = pd.to_datetime('2009-07-14 11:48')\n",
    "\n",
    "plt.xlim(start_date, end_date)\n",
    "plt.legend(frameon = False)\n",
    "plt.title('0.006 Offset')"
   ]
  },
  {
   "cell_type": "code",
   "execution_count": 136,
   "metadata": {},
   "outputs": [
    {
     "name": "stderr",
     "output_type": "stream",
     "text": [
      "Locator attempting to generate 1125 ticks ([8994.0, ..., 20234.0]), which exceeds Locator.MAXTICKS (1000).\n",
      "Locator attempting to generate 1125 ticks ([8994.0, ..., 20234.0]), which exceeds Locator.MAXTICKS (1000).\n",
      "Locator attempting to generate 1125 ticks ([8994.0, ..., 20234.0]), which exceeds Locator.MAXTICKS (1000).\n"
     ]
    },
    {
     "data": {
      "text/plain": [
       "Text(0.5, 1.0, '-0.005 Offset Begining')"
      ]
     },
     "execution_count": 136,
     "metadata": {},
     "output_type": "execute_result"
    },
    {
     "data": {
      "image/png": "[encoded data removed]",
      "text/plain": [
       "<Figure size 640x480 with 1 Axes>"
      ]
     },
     "metadata": {},
     "output_type": "display_data"
    }
   ],
   "source": [
    "plt.plot(comparison_df['Dates'],comparison_df['Shifted LH WL'],label = 'Lighthouse')\n",
    "\n",
    "plt.plot(comparison_df['Dates'],comparison_df['NOAA WL'],label = 'NOAA')\n",
    "\n",
    "plt.gca().xaxis.set_major_formatter(mdates.DateFormatter('%Y-%m-%d %H:%M'))\n",
    "\n",
    "plt.gca().xaxis.set_major_locator(mdates.DayLocator(interval=10))\n",
    "\n",
    "plt.gcf().autofmt_xdate()\n",
    "\n",
    "plt.ylim(1.5,2.25)\n",
    "\n",
    "start_date = pd.to_datetime('2011-10-11 14:18')\n",
    "\n",
    "end_date = pd.to_datetime('2011-10-11 16:06')\n",
    "\n",
    "plt.xlim(start_date, end_date)\n",
    "plt.legend(frameon = False)\n",
    "plt.title('-0.005 Offset Begining')"
   ]
  },
  {
   "cell_type": "markdown",
   "metadata": {},
   "source": [
    "Once again looking at the data in an excell spreadsheet the values are all over the place "
   ]
  },
  {
   "cell_type": "code",
   "execution_count": 137,
   "metadata": {},
   "outputs": [
    {
     "name": "stderr",
     "output_type": "stream",
     "text": [
      "Locator attempting to generate 1125 ticks ([8994.0, ..., 20234.0]), which exceeds Locator.MAXTICKS (1000).\n",
      "Locator attempting to generate 1125 ticks ([8994.0, ..., 20234.0]), which exceeds Locator.MAXTICKS (1000).\n",
      "Locator attempting to generate 1125 ticks ([8994.0, ..., 20234.0]), which exceeds Locator.MAXTICKS (1000).\n"
     ]
    },
    {
     "data": {
      "text/plain": [
       "Text(0.5, 1.0, '-0.005 Offset Ending')"
      ]
     },
     "execution_count": 137,
     "metadata": {},
     "output_type": "execute_result"
    },
    {
     "data": {
      "image/png": "[encoded data removed]",
      "text/plain": [
       "<Figure size 640x480 with 1 Axes>"
      ]
     },
     "metadata": {},
     "output_type": "display_data"
    }
   ],
   "source": [
    "plt.plot(comparison_df['Dates'],comparison_df['Shifted LH WL'],label = 'Lighthouse')\n",
    "\n",
    "plt.plot(comparison_df['Dates'],comparison_df['NOAA WL'],label = 'NOAA')\n",
    "\n",
    "plt.gca().xaxis.set_major_formatter(mdates.DateFormatter('%Y-%m-%d %H:%M'))\n",
    "\n",
    "plt.gca().xaxis.set_major_locator(mdates.DayLocator(interval=10))\n",
    "\n",
    "plt.gcf().autofmt_xdate()\n",
    "\n",
    "plt.ylim(1.6,1.8)\n",
    "\n",
    "start_date = pd.to_datetime('2011-11-01 07:06')\n",
    "\n",
    "end_date = pd.to_datetime('2011-11-01 12:06')\n",
    "\n",
    "plt.xlim(start_date, end_date)\n",
    "plt.legend(frameon = False)\n",
    "plt.title('-0.005 Offset Ending')"
   ]
  },
  {
   "cell_type": "code",
   "execution_count": 141,
   "metadata": {},
   "outputs": [
    {
     "name": "stderr",
     "output_type": "stream",
     "text": [
      "Locator attempting to generate 1125 ticks ([8994.0, ..., 20234.0]), which exceeds Locator.MAXTICKS (1000).\n",
      "Locator attempting to generate 1125 ticks ([8994.0, ..., 20234.0]), which exceeds Locator.MAXTICKS (1000).\n",
      "Locator attempting to generate 1125 ticks ([8994.0, ..., 20234.0]), which exceeds Locator.MAXTICKS (1000).\n"
     ]
    },
    {
     "data": {
      "text/plain": [
       "Text(0.5, 1.0, '-0.01 Offset Begining')"
      ]
     },
     "execution_count": 141,
     "metadata": {},
     "output_type": "execute_result"
    },
    {
     "data": {
      "image/png": "[encoded data removed]",
      "text/plain": [
       "<Figure size 640x480 with 1 Axes>"
      ]
     },
     "metadata": {},
     "output_type": "display_data"
    }
   ],
   "source": [
    "\n",
    "plt.plot(comparison_df['Dates'],comparison_df['Shifted LH WL'],label = 'Lighthouse')\n",
    "\n",
    "plt.plot(comparison_df['Dates'],comparison_df['NOAA WL'],label = 'NOAA')\n",
    "\n",
    "plt.gca().xaxis.set_major_formatter(mdates.DateFormatter('%Y-%m-%d %H:%M'))\n",
    "\n",
    "plt.gca().xaxis.set_major_locator(mdates.DayLocator(interval=10))\n",
    "\n",
    "plt.gcf().autofmt_xdate()\n",
    "\n",
    "plt.ylim(1.5,2)\n",
    "\n",
    "start_date = pd.to_datetime('2020-11-16 11:18')\n",
    "\n",
    "end_date = pd.to_datetime('2020-11-16 15:18')\n",
    "\n",
    "plt.xlim(start_date, end_date)\n",
    "plt.legend(frameon = False)\n",
    "plt.title('-0.01 Offset Begining')"
   ]
  },
  {
   "cell_type": "markdown",
   "metadata": {},
   "source": [
    "No Idea what is happening here"
   ]
  },
  {
   "cell_type": "code",
   "execution_count": 146,
   "metadata": {},
   "outputs": [
    {
     "name": "stderr",
     "output_type": "stream",
     "text": [
      "Locator attempting to generate 1125 ticks ([8994.0, ..., 20234.0]), which exceeds Locator.MAXTICKS (1000).\n",
      "Locator attempting to generate 1125 ticks ([8994.0, ..., 20234.0]), which exceeds Locator.MAXTICKS (1000).\n",
      "Locator attempting to generate 1125 ticks ([8994.0, ..., 20234.0]), which exceeds Locator.MAXTICKS (1000).\n"
     ]
    },
    {
     "data": {
      "text/plain": [
       "Text(0.5, 1.0, '-0.01 Offset Ending')"
      ]
     },
     "execution_count": 146,
     "metadata": {},
     "output_type": "execute_result"
    },
    {
     "data": {
      "image/png": "[encoded data removed]",
      "text/plain": [
       "<Figure size 640x480 with 1 Axes>"
      ]
     },
     "metadata": {},
     "output_type": "display_data"
    }
   ],
   "source": [
    "\n",
    "plt.plot(comparison_df['Dates'],comparison_df['Shifted LH WL'],label = 'Lighthouse')\n",
    "\n",
    "plt.plot(comparison_df['Dates'],comparison_df['NOAA WL'],label = 'NOAA')\n",
    "\n",
    "plt.gca().xaxis.set_major_formatter(mdates.DateFormatter('%Y-%m-%d %H:%M'))\n",
    "\n",
    "plt.gca().xaxis.set_major_locator(mdates.DayLocator(interval=10))\n",
    "\n",
    "plt.gcf().autofmt_xdate()\n",
    "\n",
    "plt.ylim(1.25,4)\n",
    "\n",
    "start_date = pd.to_datetime('2022-03-12 17:00')\n",
    "\n",
    "end_date = pd.to_datetime('2022-03-12 22:00')\n",
    "\n",
    "plt.xlim(start_date, end_date)\n",
    "plt.legend(frameon = False)\n",
    "plt.title('-0.01 Offset Ending')"
   ]
  },
  {
   "cell_type": "code",
   "execution_count": 148,
   "metadata": {},
   "outputs": [
    {
     "name": "stderr",
     "output_type": "stream",
     "text": [
      "Locator attempting to generate 1125 ticks ([8994.0, ..., 20234.0]), which exceeds Locator.MAXTICKS (1000).\n",
      "Locator attempting to generate 1125 ticks ([8994.0, ..., 20234.0]), which exceeds Locator.MAXTICKS (1000).\n",
      "Locator attempting to generate 1125 ticks ([8994.0, ..., 20234.0]), which exceeds Locator.MAXTICKS (1000).\n"
     ]
    },
    {
     "data": {
      "text/plain": [
       "Text(0.5, 1.0, '-0.008 Offset Begining')"
      ]
     },
     "execution_count": 148,
     "metadata": {},
     "output_type": "execute_result"
    },
    {
     "data": {
      "image/png": "[encoded data removed]",
      "text/plain": [
       "<Figure size 640x480 with 1 Axes>"
      ]
     },
     "metadata": {},
     "output_type": "display_data"
    }
   ],
   "source": [
    "\n",
    "plt.plot(comparison_df['Dates'],comparison_df['Shifted LH WL'],label = 'Lighthouse')\n",
    "\n",
    "plt.plot(comparison_df['Dates'],comparison_df['NOAA WL'],label = 'NOAA')\n",
    "\n",
    "plt.gca().xaxis.set_major_formatter(mdates.DateFormatter('%Y-%m-%d %H:%M'))\n",
    "\n",
    "plt.gca().xaxis.set_major_locator(mdates.DayLocator(interval=10))\n",
    "\n",
    "plt.gcf().autofmt_xdate()\n",
    "\n",
    "plt.ylim(1.25,2.25)\n",
    "\n",
    "start_date = pd.to_datetime('2023-04-28 15:48')\n",
    "\n",
    "end_date = pd.to_datetime('2023-04-28 18:48')\n",
    "\n",
    "plt.xlim(start_date, end_date)\n",
    "plt.legend(frameon = False)\n",
    "plt.title('-0.008 Offset Begining')"
   ]
  },
  {
   "cell_type": "code",
   "execution_count": null,
   "metadata": {},
   "outputs": [],
   "source": []
  }
 ],
 "metadata": {
  "kernelspec": {
   "display_name": "Python 3.11.7 ('base')",
   "language": "python",
   "name": "python3"
  },
  "language_info": {
   "codemirror_mode": {
    "name": "ipython",
    "version": 3
   },
   "file_extension": ".py",
   "mimetype": "text/x-python",
   "name": "python",
   "nbconvert_exporter": "python",
   "pygments_lexer": "ipython3",
   "version": "3.11.7"
  },
  "orig_nbformat": 4,
  "vscode": {
   "interpreter": {
    "hash": "40d3a090f54c6569ab1632332b64b2c03c39dcf918b08424e98f38b5ae0af88f"
   }
  }
 },
 "nbformat": 4,
 "nbformat_minor": 2
}
