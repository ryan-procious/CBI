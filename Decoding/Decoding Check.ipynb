{
 "cells": [
  {
   "cell_type": "code",
   "execution_count": 80,
   "metadata": {},
   "outputs": [],
   "source": [
    "import pandas as pd\n",
    "import numpy as np\n",
    "import os\n",
    "from main import *"
   ]
  },
  {
   "cell_type": "code",
   "execution_count": null,
   "metadata": {},
   "outputs": [],
   "source": [
    "BHP_NES = pd.read_csv(r'C:\\Users\\rprocious\\PSM Lighthouse\\CBI\\Decoding\\Lighthouse raw decoding inforomation\\BHP\\BHP_NES_1996-2023.csv',header=None)\n",
    "BHP_NES = BHP_NES.rename(columns={\n",
    "    0: 'Station #', \n",
    "    1: 'Date', \n",
    "    2: 'M1', \n",
    "    3: 'M2', \n",
    "    4: 'M3', \n",
    "    5: 'M4', \n",
    "    6: 'M5', \n",
    "    7: 'M6', \n",
    "    8: 'M7', \n",
    "    9: 'M8', \n",
    "    10: 'M9', \n",
    "    11: 'M10'\n",
    "})\n",
    "BHP_NES = BHP_NES.drop(columns=['Station #', 'Date'])\n",
    "transposed_df = BHP_NES.T\n",
    "long_column_df = transposed_df.unstack().reset_index(drop=True)\n",
    "start_date = pd.to_datetime(\"01/01/1996 00:00\")\n",
    "date_range = pd.date_range(start=start_date, periods=len(long_column_df), freq='6T')\n",
    "final_df = pd.DataFrame({\n",
    "    'Date': date_range,\n",
    "    'Value': long_column_df\n",
    "})\n",
    "BHP_NES = final_df.copy()"
   ]
  },
  {
   "cell_type": "code",
   "execution_count": 86,
   "metadata": {},
   "outputs": [
    {
     "ename": "NameError",
     "evalue": "name 'process_all_files_in_folder' is not defined",
     "output_type": "error",
     "traceback": [
      "\u001b[1;31m---------------------------------------------------------------------------\u001b[0m",
      "\u001b[1;31mNameError\u001b[0m                                 Traceback (most recent call last)",
      "Cell \u001b[1;32mIn[86], line 2\u001b[0m\n\u001b[0;32m      1\u001b[0m dir_path \u001b[38;5;241m=\u001b[39m \u001b[38;5;124mr\u001b[39m\u001b[38;5;124m'\u001b[39m\u001b[38;5;124mC:\u001b[39m\u001b[38;5;124m\\\u001b[39m\u001b[38;5;124mUsers\u001b[39m\u001b[38;5;124m\\\u001b[39m\u001b[38;5;124mrprocious\u001b[39m\u001b[38;5;124m\\\u001b[39m\u001b[38;5;124mPSM Lighthouse\u001b[39m\u001b[38;5;124m\\\u001b[39m\u001b[38;5;124mCBI\u001b[39m\u001b[38;5;124m\\\u001b[39m\u001b[38;5;124mDecoding\u001b[39m\u001b[38;5;124m\\\u001b[39m\u001b[38;5;124mLighthouse raw decoding inforomation\u001b[39m\u001b[38;5;124m\\\u001b[39m\u001b[38;5;124mBHP\u001b[39m\u001b[38;5;124m'\u001b[39m\n\u001b[1;32m----> 2\u001b[0m all_processed_data \u001b[38;5;241m=\u001b[39m process_all_files_in_folder(dir_path)\n",
      "\u001b[1;31mNameError\u001b[0m: name 'process_all_files_in_folder' is not defined"
     ]
    }
   ],
   "source": [
    "dir_path = r'C:\\Users\\rprocious\\PSM Lighthouse\\CBI\\Decoding\\Lighthouse raw decoding inforomation\\BHP'\n",
    "all_processed_data = process_all_files_in_folder(dir_path)"
   ]
  }
 ],
 "metadata": {
  "kernelspec": {
   "display_name": "Python 3.11.7 ('base')",
   "language": "python",
   "name": "python3"
  },
  "language_info": {
   "codemirror_mode": {
    "name": "ipython",
    "version": 3
   },
   "file_extension": ".py",
   "mimetype": "text/x-python",
   "name": "python",
   "nbconvert_exporter": "python",
   "pygments_lexer": "ipython3",
   "version": "3.12.4"
  },
  "orig_nbformat": 4,
  "vscode": {
   "interpreter": {
    "hash": "40d3a090f54c6569ab1632332b64b2c03c39dcf918b08424e98f38b5ae0af88f"
   }
  }
 },
 "nbformat": 4,
 "nbformat_minor": 2
}
