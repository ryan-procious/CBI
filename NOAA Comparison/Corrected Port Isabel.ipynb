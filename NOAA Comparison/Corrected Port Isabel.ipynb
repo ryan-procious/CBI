{
 "cells": [
  {
   "cell_type": "code",
   "execution_count": 1,
   "metadata": {
    "vscode": {
     "languageId": "shellscript"
    }
   },
   "outputs": [
    {
     "name": "stderr",
     "output_type": "stream",
     "text": [
      "Fontconfig warning: ignoring UTF-8: not a valid region tag\n"
     ]
    }
   ],
   "source": [
    "import pandas as pd # Use the work with the dataframes\n",
    "import numpy as np  # Mainly use to assing nan values as np.nan\n",
    "import matplotlib.pyplot as plt # Visualitzation\n",
    "from matplotlib.ticker import MaxNLocator # Visualitzation\n",
    "import statistics  # Uses to compute statistics\n",
    "import os\n",
    "import scipy.interpolate\n",
    "from collections import Counter\n",
    "import matplotlib.dates as mdates\n",
    "from main import *\n",
    "\n",
    "pi_9300_LH = pd.read_csv(r'/Users/rprocious/Waterlevels_CBI/CBI-2/data 2/lighthouse/Port Isabel/PortIsabel_1993-2000_pwl_harmwl_bwl.csv')\n",
    "pi_9300_LH.drop(labels=range(701280,701286),axis = 0, inplace = True)\n",
    "pi_0112_LH = pd.read_csv(r'/Users/rprocious/Waterlevels_CBI/CBI-2/data 2/lighthouse/Port Isabel/PortIsabel_2001-2012_pwl_harmwl_bwl.csv')\n",
    "pi_0112_LH.drop(labels=range(1051920,1051926), axis = 0, inplace=True)\n",
    "pi_1323_LH = pd.read_csv(r'/Users/rprocious/Waterlevels_CBI/CBI-2/data 2/lighthouse/Port Isabel/PortIsabel_2013-2023_pwl_harmwl_bwl.csv')\n",
    "pi_1323_LH.drop(labels=range(len(pi_1323_LH)-6,len(pi_1323_LH)), axis=0, inplace=True)\n",
    "directory_path = r'/Users/rprocious/Waterlevels_CBI/CBI-2/data 2/NOAA'\n",
    "\n",
    "dataframes = []\n",
    "\n",
    "# Loop through the files in the directory\n",
    "for filename in sorted(os.listdir(directory_path)):\n",
    "    if filename.endswith('level.csv'):\n",
    "\n",
    "        file_path = os.path.join(directory_path, filename)\n",
    "        \n",
    "        \n",
    "        df = pd.read_csv(file_path)\n",
    "        \n",
    "        dataframes.append(df)\n",
    "\n",
    "pi_NOAA = pd.concat(dataframes, ignore_index=True)\n",
    "pi_NOAA.drop(labels=range(0,3), axis = 0,inplace=True)\n",
    "pi_NOAA.reset_index(drop = True, inplace=True)\n",
    "frames = [pi_9300_LH,pi_0112_LH,pi_1323_LH]\n",
    "pi_LH = pd.concat(frames, ignore_index=True)\n",
    "pi_LH.drop(labels=range(0,262800),axis=0, inplace=True)\n",
    "pi_LH.reset_index(drop=True, inplace=True)\n",
    "\n",
    "comparison_df = pd.DataFrame()\n",
    "comparison_df['Dates'] = pi_LH['#date+time']\n",
    "comparison_df['Lighthouse WL'] = pi_LH['018-pwl']\n",
    "comparison_df['NOAA WL'] = pi_NOAA[' Water Level']\n",
    "\n",
    "comparison_df['Dates'] = pd.to_datetime(comparison_df['Dates'])\n",
    "comparison_df['Lighthouse WL'].replace([-999, -99, 99, 'NA', 'RM'], np.nan, inplace=True)\n",
    "comparison_df['NOAA WL'].replace([-999, -99, 99, 'NA', 'RM'], np.nan, inplace=True)\n",
    "comparison_df['Lighthouse WL'] = pd.to_numeric(comparison_df['Lighthouse WL'],errors= 'coerce')\n",
    "comparison_df['NOAA WL'] = pd.to_numeric(comparison_df['NOAA WL'],errors='coerce')\n",
    "\n",
    "#PI_2007 = pd.read_csv(r'C:\\Users\\PIrocious\\PSM Lighthouse\\CBI\\2007-08 NWLON Station 6min Corrections\\2007-08 NWLON Station 6min Corrections\\port-isabel-2007-output.csv')\n",
    "PI_2007 = pd.read_csv(r'/Users/rprocious/Waterlevels_CBI/CBI-2/2007-08 NWLON Station 6min Corrections/port-isabel-2007-output.csv')\n",
    "#PI_2008 = pd.read_csv(r'C:\\Users\\PIrocious\\PSM Lighthouse\\CBI\\2007-08 NWLON Station 6min Corrections\\2007-08 NWLON Station 6min Corrections\\port-isabel-2008-output.csv')\n",
    "PI_2008 = pd.read_csv(r'/Users/rprocious/Waterlevels_CBI/CBI-2/2007-08 NWLON Station 6min Corrections/port-isabel-2007-output.csv')\n",
    "PI_2007.reset_index(drop = True, inplace=True)\n",
    "PI_2008.reset_index(drop = True, inplace=True)\n",
    "PI_2007.replace([-999, -99, 99, 'NA', 'RM'], np.nan, inplace=True)\n",
    "PI_2007['Dates'] = pd.to_datetime(PI_2007['Date'])\n",
    "PI_2007['Water Level'] = pd.to_numeric(PI_2007['Water Level'], errors='coerce')\n",
    "PI_2008.replace([-999, -99, 99, 'NA', 'RM'], np.nan, inplace=True)\n",
    "PI_2008['Dates'] = pd.to_datetime(PI_2008['Date'])\n",
    "PI_2008['Water Level'] = pd.to_numeric(PI_2008['Water Level'], errors='coerce')\n",
    "PI = pd.concat([PI_2007,PI_2008],ignore_index=True)\n",
    "\n",
    "total_df = PI.merge(comparison_df,on='Dates',how='outer')\n",
    "total_df = total_df.drop(columns='Station #',axis=0)\n",
    "total_df = total_df.drop(columns='Date',axis=0)\n",
    "total_df['NES WL'] = total_df[\"Water Level\"]\n"
   ]
  },
  {
   "cell_type": "code",
   "execution_count": null,
   "metadata": {
    "vscode": {
     "languageId": "shellscript"
    }
   },
   "outputs": [
    {
     "ename": "",
     "evalue": "",
     "output_type": "error",
     "traceback": [
      "\u001b[1;31mJupyter cannot be started. Error attempting to locate Jupyter: Running cells with 'Python 3.11.5 64-bit ('anaconda3')' requires jupyter package.\n",
      "Run the following command to install 'jupyter and notebook' into the Python environment. \n",
      "Command: 'python -m pip install jupyter notebook -U\n",
      "or\n",
      "conda install jupyter notebook -U'\n",
      "Click <a href='https://aka.ms/installJupyterForVSCode'>here</a> for more info."
     ]
    }
   ],
   "source": [
    "total_df"
   ]
  },
  {
   "cell_type": "code",
   "execution_count": null,
   "metadata": {
    "vscode": {
     "languageId": "shellscript"
    }
   },
   "outputs": [
    {
     "ename": "",
     "evalue": "",
     "output_type": "error",
     "traceback": [
      "\u001b[1;31mJupyter cannot be started. Error attempting to locate Jupyter: Running cells with 'Python 3.11.5 64-bit ('anaconda3')' requires jupyter package.\n",
      "Run the following command to install 'jupyter and notebook' into the Python environment. \n",
      "Command: 'python -m pip install jupyter notebook -U\n",
      "or\n",
      "conda install jupyter notebook -U'\n",
      "Click <a href='https://aka.ms/installJupyterForVSCode'>here</a> for more info."
     ]
    }
   ],
   "source": [
    "plt.figure(figsize=(16,6))\n",
    "\n",
    "plt.plot(total_df['Dates'],total_df['NES WL'],label = 'NES WL', linestyle = 'dashed')\n",
    "\n",
    "plt.plot(total_df['Dates'],total_df['Lighthouse WL'],label = 'Lighthouse')\n",
    "\n",
    "plt.plot(total_df['Dates'],total_df['NOAA WL'],label = 'NOAA', color='Black')\n",
    "\n",
    "plt.gca().xaxis.set_major_formatter(mdates.DateFormatter('%Y-%m-%d %H:%M'))\n",
    "\n",
    "plt.gca().xaxis.set_major_locator(mdates.DayLocator(interval=400))\n",
    "\n",
    "plt.gcf().autofmt_xdate()\n",
    "\n",
    "plt.ylim(1,1.75)\n",
    "\n",
    "start_date = pd.to_datetime('2007-07-25 00:00')\n",
    "\n",
    "end_date = pd.to_datetime('2007-07-25 10:00')\n",
    "\n",
    "plt.xlim(start_date, end_date)\n",
    "plt.legend(frameon = False)\n",
    "plt.title('Port Isabel Correction 1')"
   ]
  },
  {
   "cell_type": "code",
   "execution_count": null,
   "metadata": {
    "vscode": {
     "languageId": "shellscript"
    }
   },
   "outputs": [
    {
     "ename": "",
     "evalue": "",
     "output_type": "error",
     "traceback": [
      "\u001b[1;31mJupyter cannot be started. Error attempting to locate Jupyter: Running cells with 'Python 3.11.5 64-bit ('anaconda3')' requires jupyter package.\n",
      "Run the following command to install 'jupyter and notebook' into the Python environment. \n",
      "Command: 'python -m pip install jupyter notebook -U\n",
      "or\n",
      "conda install jupyter notebook -U'\n",
      "Click <a href='https://aka.ms/installJupyterForVSCode'>here</a> for more info."
     ]
    }
   ],
   "source": [
    "plt.figure(figsize=(16,6))\n",
    "\n",
    "plt.plot(total_df['Dates'],total_df['NES WL'],label = 'NES WL', linestyle = 'dashed')\n",
    "\n",
    "plt.plot(total_df['Dates'],total_df['Lighthouse WL'],label = 'Lighthouse')\n",
    "\n",
    "plt.plot(total_df['Dates'],total_df['NOAA WL'],label = 'NOAA', color='Black')\n",
    "\n",
    "plt.gca().xaxis.set_major_formatter(mdates.DateFormatter('%Y-%m-%d %H:%M'))\n",
    "\n",
    "plt.gca().xaxis.set_major_locator(mdates.DayLocator(interval=400))\n",
    "\n",
    "plt.gcf().autofmt_xdate()\n",
    "\n",
    "plt.ylim(1.6,2)\n",
    "\n",
    "start_date = pd.to_datetime('2007-11-07 21:30')\n",
    "\n",
    "end_date = pd.to_datetime('2007-11-07 22:54')\n",
    "\n",
    "plt.xlim(start_date, end_date)\n",
    "plt.legend(frameon = False)\n",
    "plt.title('Port Isabel Correction 2')"
   ]
  },
  {
   "cell_type": "code",
   "execution_count": null,
   "metadata": {
    "vscode": {
     "languageId": "shellscript"
    }
   },
   "outputs": [
    {
     "ename": "",
     "evalue": "",
     "output_type": "error",
     "traceback": [
      "\u001b[1;31mJupyter cannot be started. Error attempting to locate Jupyter: Running cells with 'Python 3.11.5 64-bit ('anaconda3')' requires jupyter package.\n",
      "Run the following command to install 'jupyter and notebook' into the Python environment. \n",
      "Command: 'python -m pip install jupyter notebook -U\n",
      "or\n",
      "conda install jupyter notebook -U'\n",
      "Click <a href='https://aka.ms/installJupyterForVSCode'>here</a> for more info."
     ]
    }
   ],
   "source": [
    "plt.figure(figsize=(16,6))\n",
    "\n",
    "plt.plot(total_df['Dates'],total_df['NES WL'],label = 'NES WL', linestyle = 'dashed')\n",
    "\n",
    "plt.plot(total_df['Dates'],total_df['Lighthouse WL'],label = 'Lighthouse')\n",
    "\n",
    "plt.plot(total_df['Dates'],total_df['NOAA WL'],label = 'NOAA', color='Black')\n",
    "\n",
    "plt.gca().xaxis.set_major_formatter(mdates.DateFormatter('%Y-%m-%d %H:%M'))\n",
    "\n",
    "plt.gca().xaxis.set_major_locator(mdates.DayLocator(interval=400))\n",
    "\n",
    "plt.gcf().autofmt_xdate()\n",
    "\n",
    "plt.ylim(1,1.8)\n",
    "\n",
    "start_date = pd.to_datetime('2008-02-19 21:54')\n",
    "\n",
    "end_date = pd.to_datetime('2008-02-21 00:00')\n",
    "\n",
    "plt.xlim(start_date, end_date)\n",
    "plt.legend(frameon = False)\n",
    "plt.title('Port Isabel Correction 3')"
   ]
  },
  {
   "cell_type": "code",
   "execution_count": null,
   "metadata": {
    "vscode": {
     "languageId": "shellscript"
    }
   },
   "outputs": [
    {
     "ename": "",
     "evalue": "",
     "output_type": "error",
     "traceback": [
      "\u001b[1;31mJupyter cannot be started. Error attempting to locate Jupyter: Running cells with 'Python 3.11.5 64-bit ('anaconda3')' requires jupyter package.\n",
      "Run the following command to install 'jupyter and notebook' into the Python environment. \n",
      "Command: 'python -m pip install jupyter notebook -U\n",
      "or\n",
      "conda install jupyter notebook -U'\n",
      "Click <a href='https://aka.ms/installJupyterForVSCode'>here</a> for more info."
     ]
    }
   ],
   "source": [
    "plt.figure(figsize=(16,6))\n",
    "\n",
    "plt.plot(total_df['Dates'],total_df['NES WL'],label = 'NES WL', linestyle = 'dashed')\n",
    "\n",
    "plt.plot(total_df['Dates'],total_df['Lighthouse WL'],label = 'Lighthouse')\n",
    "\n",
    "plt.plot(total_df['Dates'],total_df['NOAA WL'],label = 'NOAA', color='Black')\n",
    "\n",
    "plt.gca().xaxis.set_major_formatter(mdates.DateFormatter('%Y-%m-%d %H:%M'))\n",
    "\n",
    "plt.gca().xaxis.set_major_locator(mdates.DayLocator(interval=400))\n",
    "\n",
    "plt.gcf().autofmt_xdate()\n",
    "\n",
    "plt.ylim(1.4,1.8)\n",
    "\n",
    "start_date = pd.to_datetime('2008-08-18 17:54')\n",
    "\n",
    "end_date = pd.to_datetime('2008-08-18 22:54')\n",
    "\n",
    "plt.xlim(start_date, end_date)\n",
    "plt.legend(frameon = False)\n",
    "plt.title('Port Isabel Correction 4')"
   ]
  },
  {
   "cell_type": "code",
   "execution_count": null,
   "metadata": {
    "vscode": {
     "languageId": "shellscript"
    }
   },
   "outputs": [
    {
     "ename": "",
     "evalue": "",
     "output_type": "error",
     "traceback": [
      "\u001b[1;31mJupyter cannot be started. Error attempting to locate Jupyter: Running cells with 'Python 3.11.5 64-bit ('anaconda3')' requires jupyter package.\n",
      "Run the following command to install 'jupyter and notebook' into the Python environment. \n",
      "Command: 'python -m pip install jupyter notebook -U\n",
      "or\n",
      "conda install jupyter notebook -U'\n",
      "Click <a href='https://aka.ms/installJupyterForVSCode'>here</a> for more info."
     ]
    }
   ],
   "source": [
    "disagreements(total_df)\n"
   ]
  },
  {
   "cell_type": "code",
   "execution_count": null,
   "metadata": {
    "vscode": {
     "languageId": "shellscript"
    }
   },
   "outputs": [
    {
     "ename": "",
     "evalue": "",
     "output_type": "error",
     "traceback": [
      "\u001b[1;31mJupyter cannot be started. Error attempting to locate Jupyter: Running cells with 'Python 3.11.5 64-bit ('anaconda3')' requires jupyter package.\n",
      "Run the following command to install 'jupyter and notebook' into the Python environment. \n",
      "Command: 'python -m pip install jupyter notebook -U\n",
      "or\n",
      "conda install jupyter notebook -U'\n",
      "Click <a href='https://aka.ms/installJupyterForVSCode'>here</a> for more info."
     ]
    }
   ],
   "source": [
    "plt.figure(figsize=(16,6))\n",
    "\n",
    "plt.plot(total_df['Dates'],total_df['NES WL'],label = 'NES WL', linestyle = 'dashed')\n",
    "\n",
    "plt.plot(total_df['Dates'],total_df['Lighthouse WL'],label = 'Lighthouse')\n",
    "\n",
    "plt.plot(total_df['Dates'],total_df['NOAA WL'],label = 'NOAA', color='Black')\n",
    "\n",
    "plt.gca().xaxis.set_major_formatter(mdates.DateFormatter('%Y-%m-%d %H:%M'))\n",
    "\n",
    "plt.gca().xaxis.set_major_locator(mdates.DayLocator(interval=400))\n",
    "\n",
    "plt.gcf().autofmt_xdate()\n",
    "\n",
    "plt.ylim(1,3)\n",
    "\n",
    "start_date = pd.to_datetime('1/15/2008 20:48')\n",
    "\n",
    "end_date = pd.to_datetime('1/15/2008 22:48')\n",
    "\n",
    "plt.xlim(start_date, end_date)\n",
    "plt.legend(frameon = False)\n",
    "plt.title('Port Isabel Correction check')"
   ]
  },
  {
   "cell_type": "code",
   "execution_count": null,
   "metadata": {
    "vscode": {
     "languageId": "shellscript"
    }
   },
   "outputs": [
    {
     "ename": "",
     "evalue": "",
     "output_type": "error",
     "traceback": [
      "\u001b[1;31mJupyter cannot be started. Error attempting to locate Jupyter: Running cells with 'Python 3.11.5 64-bit ('anaconda3')' requires jupyter package.\n",
      "Run the following command to install 'jupyter and notebook' into the Python environment. \n",
      "Command: 'python -m pip install jupyter notebook -U\n",
      "or\n",
      "conda install jupyter notebook -U'\n",
      "Click <a href='https://aka.ms/installJupyterForVSCode'>here</a> for more info."
     ]
    }
   ],
   "source": [
    "plt.figure(figsize=(16,6))\n",
    "\n",
    "plt.plot(total_df['Dates'],total_df['NES WL'],label = 'NES WL', linestyle = 'dashed')\n",
    "\n",
    "plt.plot(total_df['Dates'],total_df['Lighthouse WL'],label = 'Lighthouse')\n",
    "\n",
    "#plt.plot(total_df['Dates'],total_df['NOAA WL'],label = 'NOAA', color='Black')\n",
    "\n",
    "plt.gca().xaxis.set_major_formatter(mdates.DateFormatter('%Y-%m-%d %H:%M'))\n",
    "\n",
    "plt.gca().xaxis.set_major_locator(mdates.DayLocator(interval=400))\n",
    "\n",
    "plt.gcf().autofmt_xdate()\n",
    "\n",
    "plt.ylim(1.5,2)\n",
    "\n",
    "start_date = pd.to_datetime('1/15/2008 20:00')\n",
    "\n",
    "end_date = pd.to_datetime('1/16/2008 23:24')\n",
    "\n",
    "plt.xlim(start_date, end_date)\n",
    "plt.legend(frameon = False)\n",
    "plt.title('Port Isabel Issue 1')"
   ]
  },
  {
   "cell_type": "code",
   "execution_count": null,
   "metadata": {
    "vscode": {
     "languageId": "shellscript"
    }
   },
   "outputs": [
    {
     "ename": "",
     "evalue": "",
     "output_type": "error",
     "traceback": [
      "\u001b[1;31mJupyter cannot be started. Error attempting to locate Jupyter: Running cells with 'Python 3.11.5 64-bit ('anaconda3')' requires jupyter package.\n",
      "Run the following command to install 'jupyter and notebook' into the Python environment. \n",
      "Command: 'python -m pip install jupyter notebook -U\n",
      "or\n",
      "conda install jupyter notebook -U'\n",
      "Click <a href='https://aka.ms/installJupyterForVSCode'>here</a> for more info."
     ]
    }
   ],
   "source": [
    "plt.figure(figsize=(16,6))\n",
    "\n",
    "plt.plot(total_df['Dates'],total_df['NES WL'],label = 'NES WL', linestyle = 'dashed')\n",
    "\n",
    "plt.plot(total_df['Dates'],total_df['Lighthouse WL'],label = 'Lighthouse')\n",
    "\n",
    "#plt.plot(total_df['Dates'],total_df['NOAA WL'],label = 'NOAA', color='Black')\n",
    "\n",
    "plt.gca().xaxis.set_major_formatter(mdates.DateFormatter('%Y-%m-%d %H:%M'))\n",
    "\n",
    "plt.gca().xaxis.set_major_locator(mdates.DayLocator(interval=400))\n",
    "\n",
    "plt.gcf().autofmt_xdate()\n",
    "\n",
    "plt.ylim(1,1.8)\n",
    "\n",
    "start_date = pd.to_datetime('4/9/2008 05:00')\n",
    "\n",
    "end_date = pd.to_datetime('4/9/2008 13:00')\n",
    "\n",
    "plt.xlim(start_date, end_date)\n",
    "plt.legend(frameon = False)\n",
    "plt.title('Port Isabel Missing Data 2')"
   ]
  },
  {
   "cell_type": "code",
   "execution_count": null,
   "metadata": {
    "vscode": {
     "languageId": "shellscript"
    }
   },
   "outputs": [
    {
     "ename": "",
     "evalue": "",
     "output_type": "error",
     "traceback": [
      "\u001b[1;31mJupyter cannot be started. Error attempting to locate Jupyter: Running cells with 'Python 3.11.5 64-bit ('anaconda3')' requires jupyter package.\n",
      "Run the following command to install 'jupyter and notebook' into the Python environment. \n",
      "Command: 'python -m pip install jupyter notebook -U\n",
      "or\n",
      "conda install jupyter notebook -U'\n",
      "Click <a href='https://aka.ms/installJupyterForVSCode'>here</a> for more info."
     ]
    }
   ],
   "source": [
    "plt.figure(figsize=(16,6))\n",
    "\n",
    "plt.plot(total_df['Dates'],total_df['NES WL'],label = 'NES WL', linestyle = 'dashed')\n",
    "\n",
    "plt.plot(total_df['Dates'],total_df['Lighthouse WL'],label = 'Lighthouse')\n",
    "\n",
    "#plt.plot(total_df['Dates'],total_df['NOAA WL'],label = 'NOAA', color='Black')\n",
    "\n",
    "plt.gca().xaxis.set_major_formatter(mdates.DateFormatter('%Y-%m-%d %H:%M'))\n",
    "\n",
    "plt.gca().xaxis.set_major_locator(mdates.DayLocator(interval=400))\n",
    "\n",
    "plt.gcf().autofmt_xdate()\n",
    "\n",
    "plt.ylim(1,2.6)\n",
    "\n",
    "start_date = pd.to_datetime('7/24/2008 00:54')\n",
    "\n",
    "end_date = pd.to_datetime('7/24/2008 13:00')\n",
    "\n",
    "plt.xlim(start_date, end_date)\n",
    "plt.legend(frameon = False)\n",
    "plt.title('Port Isabel Missing Data 3')"
   ]
  },
  {
   "cell_type": "code",
   "execution_count": null,
   "metadata": {
    "vscode": {
     "languageId": "shellscript"
    }
   },
   "outputs": [
    {
     "ename": "",
     "evalue": "",
     "output_type": "error",
     "traceback": [
      "\u001b[1;31mJupyter cannot be started. Error attempting to locate Jupyter: Running cells with 'Python 3.11.5 64-bit ('anaconda3')' requires jupyter package.\n",
      "Run the following command to install 'jupyter and notebook' into the Python environment. \n",
      "Command: 'python -m pip install jupyter notebook -U\n",
      "or\n",
      "conda install jupyter notebook -U'\n",
      "Click <a href='https://aka.ms/installJupyterForVSCode'>here</a> for more info."
     ]
    }
   ],
   "source": [
    "plt.figure(figsize=(16,6))\n",
    "\n",
    "plt.plot(total_df['Dates'],total_df['NES WL'],label = 'NES WL', linestyle = 'dashed')\n",
    "\n",
    "plt.plot(total_df['Dates'],total_df['Lighthouse WL'],label = 'Lighthouse')\n",
    "\n",
    "#plt.plot(total_df['Dates'],total_df['NOAA WL'],label = 'NOAA', color='Black')\n",
    "\n",
    "plt.gca().xaxis.set_major_formatter(mdates.DateFormatter('%Y-%m-%d %H:%M'))\n",
    "\n",
    "plt.gca().xaxis.set_major_locator(mdates.DayLocator(interval=400))\n",
    "\n",
    "plt.gcf().autofmt_xdate()\n",
    "\n",
    "plt.ylim(1.4,1.5)\n",
    "\n",
    "start_date = pd.to_datetime('3/8/2008 5:30')\n",
    "\n",
    "end_date = pd.to_datetime('3/8/2008 6:30')\n",
    "\n",
    "plt.xlim(start_date, end_date)\n",
    "plt.legend(frameon = False)\n",
    "plt.title('Port Isabel Issue')"
   ]
  }
 ],
 "metadata": {
  "kernelspec": {
   "display_name": "Python 3.11.5 ('base')",
   "language": "python",
   "name": "python3"
  },
  "language_info": {
   "codemirror_mode": {
    "name": "ipython",
    "version": 3
   },
   "file_extension": ".py",
   "mimetype": "text/x-python",
   "name": "python",
   "nbconvert_exporter": "python",
   "pygments_lexer": "ipython3",
   "version": "3.12.7"
  },
  "orig_nbformat": 4,
  "vscode": {
   "interpreter": {
    "hash": "40d3a090f54c6569ab1632332b64b2c03c39dcf918b08424e98f38b5ae0af88f"
   }
  }
 },
 "nbformat": 4,
 "nbformat_minor": 2
}
