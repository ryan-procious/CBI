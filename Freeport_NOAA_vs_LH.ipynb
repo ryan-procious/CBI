{
 "cells": [
  {
   "cell_type": "code",
   "execution_count": 1,
   "metadata": {},
   "outputs": [],
   "source": [
    "import pandas as pd # Use the work with the dataframes\n",
    "import numpy as np  # Mainly use to assing nan values as np.nan\n",
    "import matplotlib.pyplot as plt # Visualitzation\n",
    "from matplotlib.ticker import MaxNLocator # Visualitzation\n",
    "import statistics  # Uses to compute statistics\n",
    "import os\n",
    "import scipy.interpolate\n",
    "from collections import Counter\n",
    "import matplotlib.dates as mdates"
   ]
  }
 ],
 "metadata": {
  "kernelspec": {
   "display_name": "Python 3.11.7 ('base')",
   "language": "python",
   "name": "python3"
  },
  "language_info": {
   "codemirror_mode": {
    "name": "ipython",
    "version": 3
   },
   "file_extension": ".py",
   "mimetype": "text/x-python",
   "name": "python",
   "nbconvert_exporter": "python",
   "pygments_lexer": "ipython3",
   "version": "3.11.7"
  },
  "orig_nbformat": 4,
  "vscode": {
   "interpreter": {
    "hash": "40d3a090f54c6569ab1632332b64b2c03c39dcf918b08424e98f38b5ae0af88f"
   }
  }
 },
 "nbformat": 4,
 "nbformat_minor": 2
}
